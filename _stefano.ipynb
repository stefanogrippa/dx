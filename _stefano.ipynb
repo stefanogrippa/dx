{
 "cells": [
  {
   "cell_type": "markdown",
   "metadata": {},
   "source": [
    "<img src=\"http://hilpisch.com/tpq_logo.png\" alt=\"The Python Quants\" width=\"45%\" align=\"right\" border=\"4\">"
   ]
  },
  {
   "cell_type": "markdown",
   "metadata": {},
   "source": [
    "# Model Classes"
   ]
  },
  {
   "cell_type": "markdown",
   "metadata": {},
   "source": [
    "The model classes represent the fundamental building blocks to model a financial market. They are used to represent the fundamental risk factors driving uncertainty (e.g. a stock, an equity index an interest rate). The following models are available:\n",
    "\n",
    "* `geometric_brownian_motion`: Black-Scholes-Merton (1973) geometric Brownian motion\n",
    "* `jump_diffusion`: Merton (1976) jump diffusion\n",
    "* `stochastic_volatility`: Heston (1993) stochastic volatility model\n",
    "* `stoch_vol_jump_diffusion`: Bates (1996) stochastic volatility jump diffusion\n",
    "* `sabr_stochastic_volatility`: Hagan et al. (2002) stochastic volatility model\n",
    "* `mean_reverting_diffusion`: Vasicek (1977) short rate model\n",
    "* `square_root_diffusion`: Cox-Ingersoll-Ross (1985) square-root diffusion\n",
    "* `square_root_jump_diffusion`: square-root jump diffusion (experimental)\n",
    "* `square_root_jump_diffusion_plus`: square-root jump diffusion plus term structure (experimental)"
   ]
  },
  {
   "cell_type": "code",
   "execution_count": 1,
   "metadata": {},
   "outputs": [],
   "source": [
    "from dx import *\n",
    "from pylab import plt\n",
    "import numpy as np\n",
    "plt.style.use('seaborn')"
   ]
  },
  {
   "cell_type": "code",
   "execution_count": 2,
   "metadata": {},
   "outputs": [],
   "source": [
    "np.set_printoptions(precision=3)"
   ]
  },
  {
   "cell_type": "markdown",
   "metadata": {},
   "source": [
    "Throughout this section we fix a `constant_short_rate` discounting object."
   ]
  },
  {
   "cell_type": "code",
   "execution_count": 3,
   "metadata": {},
   "outputs": [],
   "source": [
    "r = constant_short_rate('r', 0.01)"
   ]
  },
  {
   "cell_type": "markdown",
   "metadata": {},
   "source": [
    "## geometric_brownian_motion"
   ]
  },
  {
   "cell_type": "markdown",
   "metadata": {},
   "source": [
    "To instantiate any kind of model class, you need a `market_environment` object conataining a minimum set of data (depending on the specific model class)."
   ]
  },
  {
   "cell_type": "code",
   "execution_count": 4,
   "metadata": {},
   "outputs": [],
   "source": [
    "me = market_environment(name='me', pricing_date=dt.datetime(2021, 1, 1))"
   ]
  },
  {
   "cell_type": "markdown",
   "metadata": {},
   "source": [
    "For the **geometric Browniam motion class**, the minimum set is as follows with regard to the constant parameter values. Here, we simply make assumptions, in practice the single values would, for example be retrieved from a data service provider like Thomson Reuters or Bloomberg. The frequency parameter is according to the pandas frequency conventions (cf. <a href=\"http://pandas.pydata.org/pandas-docs/stable/timeseries.html\" target=\"_blank\">http://pandas.pydata.org/pandas-docs/stable/timeseries.html</a>)."
   ]
  },
  {
   "cell_type": "code",
   "execution_count": 5,
   "metadata": {},
   "outputs": [],
   "source": [
    "me.add_constant('initial_value', 100)\n",
    "me.add_constant('volatility', 0.2)\n",
    "me.add_constant('final_date', dt.datetime(2021, 12, 31))\n",
    "# time horizon for the simulation\n",
    "me.add_constant('currency', 'EUR')\n",
    "me.add_constant('frequency', 'M')\n",
    "# monthly frequency; paramter accorind to pandas convention\n",
    "number_of_paths = 20\n",
    "me.add_constant('paths',   number_of_paths)\n",
    "# number of paths for simulation"
   ]
  },
  {
   "cell_type": "markdown",
   "metadata": {},
   "source": [
    "Every model class needs a discounting object since this defines the risk-neutral drift of the risk factor."
   ]
  },
  {
   "cell_type": "code",
   "execution_count": 6,
   "metadata": {},
   "outputs": [],
   "source": [
    "me.add_curve('discount_curve', r)"
   ]
  },
  {
   "cell_type": "markdown",
   "metadata": {},
   "source": [
    "The instantiation of a model class is then accomplished by providing a name as a `string` object and the respective `market_environment` object."
   ]
  },
  {
   "cell_type": "code",
   "execution_count": 7,
   "metadata": {},
   "outputs": [],
   "source": [
    "gbm = geometric_brownian_motion('gbm', me)"
   ]
  },
  {
   "cell_type": "markdown",
   "metadata": {},
   "source": [
    "The `generate_time_grid` method generates a `ndarray` objet of `datetime` objects given the specifications in the market environment. This represents the discretization of the time interval between the `pricing_date` and the `final_date`. This method does not need to be called actively."
   ]
  },
  {
   "cell_type": "code",
   "execution_count": 8,
   "metadata": {},
   "outputs": [],
   "source": [
    "gbm.generate_time_grid()"
   ]
  },
  {
   "cell_type": "code",
   "execution_count": 9,
   "metadata": {},
   "outputs": [
    {
     "data": {
      "text/plain": "array([datetime.datetime(2021, 1, 1, 0, 0),\n       datetime.datetime(2021, 1, 31, 0, 0),\n       datetime.datetime(2021, 2, 28, 0, 0),\n       datetime.datetime(2021, 3, 31, 0, 0),\n       datetime.datetime(2021, 4, 30, 0, 0),\n       datetime.datetime(2021, 5, 31, 0, 0),\n       datetime.datetime(2021, 6, 30, 0, 0),\n       datetime.datetime(2021, 7, 31, 0, 0),\n       datetime.datetime(2021, 8, 31, 0, 0),\n       datetime.datetime(2021, 9, 30, 0, 0),\n       datetime.datetime(2021, 10, 31, 0, 0),\n       datetime.datetime(2021, 11, 30, 0, 0),\n       datetime.datetime(2021, 12, 31, 0, 0)], dtype=object)"
     },
     "execution_count": 9,
     "metadata": {},
     "output_type": "execute_result"
    }
   ],
   "source": [
    "gbm.time_grid"
   ]
  },
  {
   "cell_type": "markdown",
   "metadata": {},
   "source": [
    "The simulation itself is initiated by a call of the method `get_instrument_values`. It returns an `ndarray` object containing the simulated paths for the risk factor."
   ]
  },
  {
   "cell_type": "code",
   "execution_count": 10,
   "metadata": {},
   "outputs": [],
   "source": [
    "paths = gbm.get_instrument_values()"
   ]
  },
  {
   "cell_type": "code",
   "execution_count": 11,
   "metadata": {},
   "outputs": [
    {
     "data": {
      "text/plain": "array([[100.   , 100.   ],\n       [103.58 ,  95.666],\n       [101.71 ,  95.099],\n       [101.238,  95.452],\n       [ 95.635,  98.779],\n       [110.042, 104.678],\n       [ 98.027,  96.79 ],\n       [ 98.915,  89.447],\n       [ 92.203,  96.365],\n       [ 86.34 , 112.358],\n       [ 84.44 , 108.745],\n       [ 85.727, 108.903],\n       [ 80.252, 103.124]])"
     },
     "execution_count": 11,
     "metadata": {},
     "output_type": "execute_result"
    }
   ],
   "source": [
    "paths[:, :2]"
   ]
  },
  {
   "cell_type": "markdown",
   "metadata": {},
   "source": [
    "These can, for instance, be visualized easily. First some plotting parameter specifications we want to use throughout."
   ]
  },
  {
   "cell_type": "code",
   "execution_count": 12,
   "metadata": {},
   "outputs": [],
   "source": [
    "%matplotlib inline\n",
    "colormap='RdYlBu_r'\n",
    "lw=1.25\n",
    "figsize=(10, 6)\n",
    "legend=False\n",
    "no_paths=10"
   ]
  },
  {
   "cell_type": "markdown",
   "metadata": {},
   "source": [
    "For easy plotting, we put the data with the `time_grid` information into a pandas `DataFrame` object."
   ]
  },
  {
   "cell_type": "code",
   "execution_count": 13,
   "metadata": {},
   "outputs": [],
   "source": [
    "pdf = pd.DataFrame(paths, index=gbm.time_grid)"
   ]
  },
  {
   "cell_type": "markdown",
   "metadata": {},
   "source": [
    "The following visualizes the first 10 paths of the simulation."
   ]
  },
  {
   "cell_type": "code",
   "execution_count": 14,
   "metadata": {},
   "outputs": [
    {
     "data": {
      "text/plain": "<Figure size 720x432 with 1 Axes>",
      "image/png": "[encoded data removed]"
     },
     "metadata": {
      "needs_background": "light"
     },
     "output_type": "display_data"
    }
   ],
   "source": [
    "pdf[pdf.columns[:no_paths]].plot(colormap=colormap, lw=lw,\n",
    "                           figsize=figsize, legend=legend);"
   ]
  },
  {
   "cell_type": "markdown",
   "metadata": {},
   "source": [
    "## jump_diffusion"
   ]
  },
  {
   "cell_type": "markdown",
   "metadata": {},
   "source": [
    "The next model is the **jump diffusion model from Merton (1976)** adding a log-normally distributed jump component to the geometric Brownian motion. Three more parameter values are needed:"
   ]
  },
  {
   "cell_type": "code",
   "execution_count": 15,
   "metadata": {},
   "outputs": [],
   "source": [
    "me.add_constant('lambda', 0.7)\n",
    "  # probability for a jump p.a.\n",
    "me.add_constant('mu', -0.8)\n",
    "  # expected relative jump size\n",
    "me.add_constant('delta', 0.1)\n",
    "  # standard deviation of relative jump"
   ]
  },
  {
   "cell_type": "markdown",
   "metadata": {},
   "source": [
    "The instantiation of the model class and usage then is the same as before."
   ]
  },
  {
   "cell_type": "code",
   "execution_count": 16,
   "metadata": {},
   "outputs": [],
   "source": [
    "jd = jump_diffusion('jd', me)"
   ]
  },
  {
   "cell_type": "code",
   "execution_count": 17,
   "metadata": {},
   "outputs": [],
   "source": [
    "paths = jd.get_instrument_values()"
   ]
  },
  {
   "cell_type": "code",
   "execution_count": 18,
   "metadata": {},
   "outputs": [],
   "source": [
    "pdf = pd.DataFrame(paths, index=jd.time_grid)"
   ]
  },
  {
   "cell_type": "code",
   "execution_count": 19,
   "metadata": {},
   "outputs": [
    {
     "data": {
      "text/plain": "<Figure size 720x432 with 1 Axes>",
      "image/png": "[encoded data removed]"
     },
     "metadata": {
      "needs_background": "light"
     },
     "output_type": "display_data"
    }
   ],
   "source": [
    "pdf[pdf.columns[:no_paths]].plot(colormap=colormap, lw=lw,\n",
    "                           figsize=figsize, legend=legend);"
   ]
  },
  {
   "cell_type": "markdown",
   "metadata": {},
   "source": [
    "## stochastic_volatility"
   ]
  },
  {
   "cell_type": "markdown",
   "metadata": {},
   "source": [
    "Another important financial model is the  **stochastic volatility model according to Heston (1993)**. Compared to the geometric Brownian motion, this model class need four more parameter values."
   ]
  },
  {
   "cell_type": "code",
   "execution_count": 20,
   "metadata": {},
   "outputs": [],
   "source": [
    "me.add_constant('rho', -.7)\n",
    "  # correlation between risk factor process (eg index)\n",
    "  # and variance process \n",
    "me.add_constant('kappa', 2.5)\n",
    "  # mean reversion factor\n",
    "me.add_constant('theta', 0.1)\n",
    "  # long-term variance level\n",
    "me.add_constant('vol_vol', 0.1)\n",
    "  # volatility factor for variance process"
   ]
  },
  {
   "cell_type": "markdown",
   "metadata": {},
   "source": [
    "Again, the instantiation and usage of this model class are essentially the same."
   ]
  },
  {
   "cell_type": "code",
   "execution_count": 21,
   "metadata": {},
   "outputs": [],
   "source": [
    "sv = stochastic_volatility('sv', me)"
   ]
  },
  {
   "cell_type": "markdown",
   "metadata": {},
   "source": [
    "The following visualizes 10 simulated paths for the **risk factor process**."
   ]
  },
  {
   "cell_type": "code",
   "execution_count": 22,
   "metadata": {},
   "outputs": [],
   "source": [
    "paths = sv.get_instrument_values()"
   ]
  },
  {
   "cell_type": "code",
   "execution_count": 23,
   "metadata": {},
   "outputs": [],
   "source": [
    "pdf = pd.DataFrame(paths, index=sv.time_grid)"
   ]
  },
  {
   "cell_type": "code",
   "execution_count": 24,
   "metadata": {},
   "outputs": [
    {
     "data": {
      "text/plain": "<Figure size 720x432 with 1 Axes>",
      "image/png": "[encoded data removed]"
     },
     "metadata": {
      "needs_background": "light"
     },
     "output_type": "display_data"
    }
   ],
   "source": [
    "# index level paths\n",
    "pdf[pdf.columns[:no_paths]].plot(colormap=colormap, lw=lw,\n",
    "                           figsize=figsize, legend=legend);"
   ]
  },
  {
   "cell_type": "markdown",
   "metadata": {},
   "source": [
    "This model class has a second set of simulated paths, namely for the **variance process**."
   ]
  },
  {
   "cell_type": "code",
   "execution_count": 25,
   "metadata": {},
   "outputs": [],
   "source": [
    "vols = sv.get_volatility_values()"
   ]
  },
  {
   "cell_type": "code",
   "execution_count": 26,
   "metadata": {},
   "outputs": [],
   "source": [
    "pdf = pd.DataFrame(vols, index=sv.time_grid)"
   ]
  },
  {
   "cell_type": "code",
   "execution_count": 27,
   "metadata": {},
   "outputs": [
    {
     "data": {
      "text/plain": "<Figure size 720x432 with 1 Axes>",
      "image/png": "[encoded data removed]"
     },
     "metadata": {
      "needs_background": "light"
     },
     "output_type": "display_data"
    }
   ],
   "source": [
    "# volatility paths\n",
    "pdf[pdf.columns[:no_paths]].plot(colormap=colormap, lw=lw,\n",
    "                           figsize=figsize, legend=legend);"
   ]
  },
  {
   "cell_type": "markdown",
   "metadata": {},
   "source": [
    "## stoch_vol_jump_diffusion"
   ]
  },
  {
   "cell_type": "markdown",
   "metadata": {},
   "source": [
    "The next model class, i.e. `stoch_vol_jump_diffusion`, combines **stochastic volatility with a jump diffusion according to Bates (1996).** Our market environment object `me` contains already all parameters needed for the instantiation of this model."
   ]
  },
  {
   "cell_type": "code",
   "execution_count": 28,
   "metadata": {},
   "outputs": [],
   "source": [
    "svjd = stoch_vol_jump_diffusion('svjd', me)"
   ]
  },
  {
   "cell_type": "markdown",
   "metadata": {},
   "source": [
    "As with the `stochastic_volatility` class, this class generates simulated paths for both the **risk factor and variance process**."
   ]
  },
  {
   "cell_type": "code",
   "execution_count": 29,
   "metadata": {},
   "outputs": [],
   "source": [
    "paths = svjd.get_instrument_values()"
   ]
  },
  {
   "cell_type": "code",
   "execution_count": 30,
   "metadata": {},
   "outputs": [
    {
     "name": "stdout",
     "output_type": "stream",
     "text": [
      "                    0           1           2           3           4           5           6           7           8           9           10          11          12          13          14          15          16          17          18          19\n",
      "2021-01-01  100.000000  100.000000  100.000000  100.000000  100.000000  100.000000  100.000000  100.000000  100.000000  100.000000  100.000000  100.000000  100.000000  100.000000  100.000000  100.000000  100.000000  100.000000  100.000000  100.000000\n",
      "2021-01-31  107.399630   98.068387   95.740558  100.517391  101.912922  103.724248  102.189601  107.654698  111.486635   96.982988   98.911075  108.324492  110.966069  105.680669  104.232314  102.411907  103.949972   98.677191   95.295115  109.540008\n",
      "2021-02-28  108.221205  100.344327  101.219480  109.835274  107.077528  117.922066  101.560193   47.145470  108.851369  110.740027  104.080036   53.060353  111.288401   40.423971  105.188760   95.536897   56.145243  104.158385  103.488077  101.730836\n",
      "2021-03-31  110.737810  103.799683   44.522902  112.584908   47.388700  139.485338  103.834677   46.324945   99.560442  121.293466  107.565597   54.098249   57.483787   41.537470  110.585151   85.450619   57.937584  111.727659  119.681409   98.232062\n",
      "2021-04-30  105.105800  111.731049   55.599890  122.606807   44.536557  141.291780  103.169318   46.101007   93.962216  117.750437  119.223042   52.633894   48.004469   39.855155  123.101377   88.715121   61.119372  117.461506  133.412388  106.436684\n",
      "2021-05-31  132.680944  125.442308   49.772322  120.361064   50.179226   71.118968   99.852169   41.869869  106.016755   72.576489  100.760238   18.870536   57.463700   43.437819  116.821836   90.409924   67.468618  138.423233  126.077434  101.312220\n",
      "2021-06-30  116.068597  115.857415   52.477678  138.776035   53.371440   73.257394  108.640059   44.747088  117.257688   69.925086  123.130083   22.271879   58.851640   40.599791  118.049940   94.186511   66.541356  139.374374  121.843308  112.774817\n",
      "2021-07-31  123.473165   38.126870   24.906193  128.436104   54.352662   83.928018  105.182150   56.591488  125.416496   78.094961  127.136671   27.903608   64.607920   49.484699   68.455177   91.684259   76.601194  123.710270   56.762213  112.321912\n",
      "2021-08-31  114.596002   44.009135   24.415539  132.651386   59.925580   97.516083  103.272520   60.345866  136.521051   86.451587  145.415459   25.679905   70.006560   50.861958   65.920932   83.796624   82.820408  123.156481   55.357899  107.711994\n",
      "2021-09-30  106.125442   56.566312   19.442929  123.296422   58.048878  106.595654  120.353966   60.064152  145.002046  103.596191  164.444713   20.175219   89.077534   56.880574   70.434526   79.910185   74.068298   62.254232   54.184961   93.837768\n",
      "2021-10-31  106.409672   56.112678   15.277384  109.235906   57.630461  119.863124  134.290414   61.278105  155.622108   98.776121  175.655783   22.453569   78.498493   69.171953   76.729733   76.442225   71.388161   66.038100   23.582545  105.686396\n",
      "2021-11-30  114.136162   29.064793   18.677487  120.346377   61.754288  110.259370  110.431552   69.073809  145.620652   96.491635  178.256529   24.949935   77.727300   69.467175   80.172057   91.445641   95.514571   65.731437   28.965768  118.787291\n",
      "2021-12-31  105.781663   27.067376   15.806938  118.522398   69.260429   68.961889  120.124407   72.633723   58.239541   97.470827  202.651871   27.453565   94.140534   74.041574   74.829592   85.272886   92.277199   65.394208   30.921803  123.634898\n",
      "numeroriga = 0numerocolonna=0\n",
      "cella=100.0\n",
      "numeroriga = 0numerocolonna=1\n",
      "cella=100.0\n",
      "numeroriga = 0numerocolonna=2\n",
      "cella=100.0\n",
      "numeroriga = 0numerocolonna=3\n",
      "cella=100.0\n",
      "numeroriga = 0numerocolonna=4\n",
      "cella=100.0\n",
      "numeroriga = 0numerocolonna=5\n",
      "cella=100.0\n",
      "numeroriga = 0numerocolonna=6\n",
      "cella=100.0\n",
      "numeroriga = 0numerocolonna=7\n",
      "cella=100.0\n",
      "numeroriga = 0numerocolonna=8\n",
      "cella=100.0\n",
      "numeroriga = 0numerocolonna=9\n",
      "cella=100.0\n",
      "numeroriga = 0numerocolonna=10\n",
      "cella=100.0\n",
      "numeroriga = 0numerocolonna=11\n",
      "cella=100.0\n",
      "numeroriga = 0numerocolonna=12\n",
      "cella=100.0\n",
      "numeroriga = 0numerocolonna=13\n",
      "cella=100.0\n",
      "numeroriga = 0numerocolonna=14\n",
      "cella=100.0\n",
      "numeroriga = 0numerocolonna=15\n",
      "cella=100.0\n",
      "numeroriga = 0numerocolonna=16\n",
      "cella=100.0\n",
      "numeroriga = 0numerocolonna=17\n",
      "cella=100.0\n",
      "numeroriga = 0numerocolonna=18\n",
      "cella=100.0\n",
      "numeroriga = 0numerocolonna=19\n",
      "cella=100.0\n",
      "numeroriga = 1numerocolonna=0\n",
      "cella=107.39963015406525\n",
      "numeroriga = 1numerocolonna=1\n",
      "cella=98.06838657563017\n",
      "numeroriga = 1numerocolonna=2\n",
      "cella=95.74055831022203\n",
      "numeroriga = 1numerocolonna=3\n",
      "cella=100.51739119782592\n",
      "numeroriga = 1numerocolonna=4\n",
      "cella=101.91292165953169\n",
      "numeroriga = 1numerocolonna=5\n",
      "cella=103.72424769193314\n",
      "numeroriga = 1numerocolonna=6\n",
      "cella=102.1896010094039\n",
      "numeroriga = 1numerocolonna=7\n",
      "cella=107.65469848653649\n",
      "numeroriga = 1numerocolonna=8\n",
      "cella=111.48663543970746\n",
      "numeroriga = 1numerocolonna=9\n",
      "cella=96.98298791889476\n",
      "numeroriga = 1numerocolonna=10\n",
      "cella=98.91107504571183\n",
      "numeroriga = 1numerocolonna=11\n",
      "cella=108.32449167724609\n",
      "numeroriga = 1numerocolonna=12\n",
      "cella=110.96606881578789\n",
      "numeroriga = 1numerocolonna=13\n",
      "cella=105.68066940519944\n",
      "numeroriga = 1numerocolonna=14\n",
      "cella=104.23231387983381\n",
      "numeroriga = 1numerocolonna=15\n",
      "cella=102.41190746368405\n",
      "numeroriga = 1numerocolonna=16\n",
      "cella=103.9499721644587\n",
      "numeroriga = 1numerocolonna=17\n",
      "cella=98.67719072218824\n",
      "numeroriga = 1numerocolonna=18\n",
      "cella=95.29511523766313\n",
      "numeroriga = 1numerocolonna=19\n",
      "cella=109.54000766885171\n",
      "numeroriga = 2numerocolonna=0\n",
      "cella=108.22120533246816\n",
      "numeroriga = 2numerocolonna=1\n",
      "cella=100.34432731623141\n",
      "numeroriga = 2numerocolonna=2\n",
      "cella=101.219479657735\n",
      "numeroriga = 2numerocolonna=3\n",
      "cella=109.83527381448133\n",
      "numeroriga = 2numerocolonna=4\n",
      "cella=107.07752849801571\n",
      "numeroriga = 2numerocolonna=5\n",
      "cella=117.9220664033757\n",
      "numeroriga = 2numerocolonna=6\n",
      "cella=101.56019281962857\n",
      "numeroriga = 2numerocolonna=7\n",
      "cella=47.14547002992404\n",
      "defaulting path for column7 and row 2 and value 47.14547002992404\n",
      "numeroriga = 2numerocolonna=8\n",
      "cella=108.85136926186111\n",
      "numeroriga = 2numerocolonna=9\n",
      "cella=110.74002660945871\n",
      "numeroriga = 2numerocolonna=10\n",
      "cella=104.08003563874503\n",
      "numeroriga = 2numerocolonna=11\n",
      "cella=53.06035336941456\n",
      "defaulting path for column11 and row 2 and value 53.06035336941456\n",
      "numeroriga = 2numerocolonna=12\n",
      "cella=111.28840125425009\n",
      "numeroriga = 2numerocolonna=13\n",
      "cella=40.42397081976884\n",
      "defaulting path for column13 and row 2 and value 40.42397081976884\n",
      "numeroriga = 2numerocolonna=14\n",
      "cella=105.18875962853454\n",
      "numeroriga = 2numerocolonna=15\n",
      "cella=95.5368966851693\n",
      "numeroriga = 2numerocolonna=16\n",
      "cella=56.145242639558596\n",
      "defaulting path for column16 and row 2 and value 56.145242639558596\n",
      "numeroriga = 2numerocolonna=17\n",
      "cella=104.1583847936645\n",
      "numeroriga = 2numerocolonna=18\n",
      "cella=103.48807730502048\n",
      "numeroriga = 2numerocolonna=19\n",
      "cella=101.73083596775164\n",
      "numeroriga = 3numerocolonna=0\n",
      "cella=110.73781035189184\n",
      "numeroriga = 3numerocolonna=1\n",
      "cella=103.79968322991444\n",
      "numeroriga = 3numerocolonna=2\n",
      "cella=44.52290150457129\n",
      "defaulting path for column2 and row 3 and value 44.52290150457129\n",
      "numeroriga = 3numerocolonna=3\n",
      "cella=112.5849079630249\n",
      "numeroriga = 3numerocolonna=4\n",
      "cella=47.388699956963976\n",
      "defaulting path for column4 and row 3 and value 47.388699956963976\n",
      "numeroriga = 3numerocolonna=5\n",
      "cella=139.48533811772128\n",
      "numeroriga = 3numerocolonna=6\n",
      "cella=103.83467717361077\n",
      "numeroriga = 3numerocolonna=7\n",
      "cella=46.32494473790964\n",
      "defaulting path for column7 and row 3 and value 46.32494473790964\n",
      "numeroriga = 3numerocolonna=8\n",
      "cella=99.5604421847455\n",
      "numeroriga = 3numerocolonna=9\n",
      "cella=121.29346575477894\n",
      "numeroriga = 3numerocolonna=10\n",
      "cella=107.56559732963517\n",
      "numeroriga = 3numerocolonna=11\n",
      "cella=54.09824911184373\n",
      "defaulting path for column11 and row 3 and value 54.09824911184373\n",
      "numeroriga = 3numerocolonna=12\n",
      "cella=57.48378669388358\n",
      "defaulting path for column12 and row 3 and value 57.48378669388358\n",
      "numeroriga = 3numerocolonna=13\n",
      "cella=41.53746982009398\n",
      "defaulting path for column13 and row 3 and value 41.53746982009398\n",
      "numeroriga = 3numerocolonna=14\n",
      "cella=110.5851511969013\n",
      "numeroriga = 3numerocolonna=15\n",
      "cella=85.45061864914659\n",
      "numeroriga = 3numerocolonna=16\n",
      "cella=57.9375839858711\n",
      "defaulting path for column16 and row 3 and value 57.9375839858711\n",
      "numeroriga = 3numerocolonna=17\n",
      "cella=111.72765892876251\n",
      "numeroriga = 3numerocolonna=18\n",
      "cella=119.68140865936103\n",
      "numeroriga = 3numerocolonna=19\n",
      "cella=98.2320623074473\n",
      "numeroriga = 4numerocolonna=0\n",
      "cella=105.10579974483173\n",
      "numeroriga = 4numerocolonna=1\n",
      "cella=111.73104859955909\n",
      "numeroriga = 4numerocolonna=2\n",
      "cella=55.599890039234126\n",
      "defaulting path for column2 and row 4 and value 55.599890039234126\n",
      "numeroriga = 4numerocolonna=3\n",
      "cella=122.60680687008174\n",
      "numeroriga = 4numerocolonna=4\n",
      "cella=44.53655693423888\n",
      "defaulting path for column4 and row 4 and value 44.53655693423888\n",
      "numeroriga = 4numerocolonna=5\n",
      "cella=141.29177951040313\n",
      "numeroriga = 4numerocolonna=6\n",
      "cella=103.16931825420386\n",
      "numeroriga = 4numerocolonna=7\n",
      "cella=46.10100677151791\n",
      "defaulting path for column7 and row 4 and value 46.10100677151791\n",
      "numeroriga = 4numerocolonna=8\n",
      "cella=93.96221612897757\n",
      "numeroriga = 4numerocolonna=9\n",
      "cella=117.75043700573725\n",
      "numeroriga = 4numerocolonna=10\n",
      "cella=119.22304237573623\n",
      "numeroriga = 4numerocolonna=11\n",
      "cella=52.63389368717119\n",
      "defaulting path for column11 and row 4 and value 52.63389368717119\n",
      "numeroriga = 4numerocolonna=12\n",
      "cella=48.004468599872794\n",
      "defaulting path for column12 and row 4 and value 48.004468599872794\n",
      "numeroriga = 4numerocolonna=13\n",
      "cella=39.855154641792275\n",
      "defaulting path for column13 and row 4 and value 39.855154641792275\n",
      "numeroriga = 4numerocolonna=14\n",
      "cella=123.10137676051343\n",
      "numeroriga = 4numerocolonna=15\n",
      "cella=88.71512050838919\n",
      "numeroriga = 4numerocolonna=16\n",
      "cella=61.11937161840902\n",
      "numeroriga = 4numerocolonna=17\n",
      "cella=117.46150610524992\n",
      "numeroriga = 4numerocolonna=18\n",
      "cella=133.41238818556428\n",
      "numeroriga = 4numerocolonna=19\n",
      "cella=106.43668363930873\n",
      "numeroriga = 5numerocolonna=0\n",
      "cella=132.68094428878317\n",
      "numeroriga = 5numerocolonna=1\n",
      "cella=125.44230776125877\n",
      "numeroriga = 5numerocolonna=2\n",
      "cella=49.77232230089809\n",
      "defaulting path for column2 and row 5 and value 49.77232230089809\n",
      "numeroriga = 5numerocolonna=3\n",
      "cella=120.36106365807065\n",
      "numeroriga = 5numerocolonna=4\n",
      "cella=50.17922580288258\n",
      "defaulting path for column4 and row 5 and value 50.17922580288258\n",
      "numeroriga = 5numerocolonna=5\n",
      "cella=71.1189682921898\n",
      "numeroriga = 5numerocolonna=6\n",
      "cella=99.85216904950144\n",
      "numeroriga = 5numerocolonna=7\n",
      "cella=41.869868603514526\n",
      "defaulting path for column7 and row 5 and value 41.869868603514526\n",
      "numeroriga = 5numerocolonna=8\n",
      "cella=106.01675495362396\n",
      "numeroriga = 5numerocolonna=9\n",
      "cella=72.57648898082788\n",
      "numeroriga = 5numerocolonna=10\n",
      "cella=100.76023752340011\n",
      "numeroriga = 5numerocolonna=11\n",
      "cella=18.870535681865114\n",
      "defaulting path for column11 and row 5 and value 18.870535681865114\n",
      "numeroriga = 5numerocolonna=12\n",
      "cella=57.46370038285142\n",
      "defaulting path for column12 and row 5 and value 57.46370038285142\n",
      "numeroriga = 5numerocolonna=13\n",
      "cella=43.4378185671771\n",
      "defaulting path for column13 and row 5 and value 43.4378185671771\n",
      "numeroriga = 5numerocolonna=14\n",
      "cella=116.82183626174333\n",
      "numeroriga = 5numerocolonna=15\n",
      "cella=90.40992378282647\n",
      "numeroriga = 5numerocolonna=16\n",
      "cella=67.46861831130579\n",
      "numeroriga = 5numerocolonna=17\n",
      "cella=138.42323255918345\n",
      "numeroriga = 5numerocolonna=18\n",
      "cella=126.07743363684129\n",
      "numeroriga = 5numerocolonna=19\n",
      "cella=101.31222016844636\n",
      "numeroriga = 6numerocolonna=0\n",
      "cella=116.06859714137792\n",
      "numeroriga = 6numerocolonna=1\n",
      "cella=115.85741488339006\n",
      "numeroriga = 6numerocolonna=2\n",
      "cella=52.477678383191204\n",
      "defaulting path for column2 and row 6 and value 52.477678383191204\n",
      "numeroriga = 6numerocolonna=3\n",
      "cella=138.7760346664815\n",
      "numeroriga = 6numerocolonna=4\n",
      "cella=53.37144013549861\n",
      "defaulting path for column4 and row 6 and value 53.37144013549861\n",
      "numeroriga = 6numerocolonna=5\n",
      "cella=73.25739415580637\n",
      "numeroriga = 6numerocolonna=6\n",
      "cella=108.64005855670133\n",
      "numeroriga = 6numerocolonna=7\n",
      "cella=44.74708780732066\n",
      "defaulting path for column7 and row 6 and value 44.74708780732066\n",
      "numeroriga = 6numerocolonna=8\n",
      "cella=117.25768782716217\n",
      "numeroriga = 6numerocolonna=9\n",
      "cella=69.92508609529068\n",
      "numeroriga = 6numerocolonna=10\n",
      "cella=123.13008260176933\n",
      "numeroriga = 6numerocolonna=11\n",
      "cella=22.27187949626291\n",
      "defaulting path for column11 and row 6 and value 22.27187949626291\n",
      "numeroriga = 6numerocolonna=12\n",
      "cella=58.85164048064372\n",
      "defaulting path for column12 and row 6 and value 58.85164048064372\n",
      "numeroriga = 6numerocolonna=13\n",
      "cella=40.599790852608294\n",
      "defaulting path for column13 and row 6 and value 40.599790852608294\n",
      "numeroriga = 6numerocolonna=14\n",
      "cella=118.0499398374154\n",
      "numeroriga = 6numerocolonna=15\n",
      "cella=94.18651149566243\n",
      "numeroriga = 6numerocolonna=16\n",
      "cella=66.54135639393698\n",
      "numeroriga = 6numerocolonna=17\n",
      "cella=139.37437380125812\n",
      "numeroriga = 6numerocolonna=18\n",
      "cella=121.84330846947526\n",
      "numeroriga = 6numerocolonna=19\n",
      "cella=112.77481667558389\n",
      "numeroriga = 7numerocolonna=0\n",
      "cella=123.47316514605758\n",
      "numeroriga = 7numerocolonna=1\n",
      "cella=38.12686987157301\n",
      "defaulting path for column1 and row 7 and value 38.12686987157301\n",
      "numeroriga = 7numerocolonna=2\n",
      "cella=24.906192634559247\n",
      "defaulting path for column2 and row 7 and value 24.906192634559247\n",
      "numeroriga = 7numerocolonna=3\n",
      "cella=128.43610384248097\n",
      "numeroriga = 7numerocolonna=4\n",
      "cella=54.35266206557589\n",
      "defaulting path for column4 and row 7 and value 54.35266206557589\n",
      "numeroriga = 7numerocolonna=5\n",
      "cella=83.92801755692365\n",
      "numeroriga = 7numerocolonna=6\n",
      "cella=105.18215046461563\n",
      "numeroriga = 7numerocolonna=7\n",
      "cella=56.591488361823295\n",
      "defaulting path for column7 and row 7 and value 56.591488361823295\n",
      "numeroriga = 7numerocolonna=8\n",
      "cella=125.41649616926644\n",
      "numeroriga = 7numerocolonna=9\n",
      "cella=78.0949607291363\n",
      "numeroriga = 7numerocolonna=10\n",
      "cella=127.13667052021663\n",
      "numeroriga = 7numerocolonna=11\n",
      "cella=27.903607836191174\n",
      "defaulting path for column11 and row 7 and value 27.903607836191174\n",
      "numeroriga = 7numerocolonna=12\n",
      "cella=64.6079202166284\n",
      "numeroriga = 7numerocolonna=13\n",
      "cella=49.48469893670839\n",
      "defaulting path for column13 and row 7 and value 49.48469893670839\n",
      "numeroriga = 7numerocolonna=14\n",
      "cella=68.4551768680144\n",
      "numeroriga = 7numerocolonna=15\n",
      "cella=91.68425936395441\n",
      "numeroriga = 7numerocolonna=16\n",
      "cella=76.60119386094509\n",
      "numeroriga = 7numerocolonna=17\n",
      "cella=123.71026958821712\n",
      "numeroriga = 7numerocolonna=18\n",
      "cella=56.76221250148709\n",
      "defaulting path for column18 and row 7 and value 56.76221250148709\n",
      "numeroriga = 7numerocolonna=19\n",
      "cella=112.32191159814425\n",
      "numeroriga = 8numerocolonna=0\n",
      "cella=114.59600236554041\n",
      "numeroriga = 8numerocolonna=1\n",
      "cella=44.00913549007317\n",
      "defaulting path for column1 and row 8 and value 44.00913549007317\n",
      "numeroriga = 8numerocolonna=2\n",
      "cella=24.415538537486825\n",
      "defaulting path for column2 and row 8 and value 24.415538537486825\n",
      "numeroriga = 8numerocolonna=3\n",
      "cella=132.65138556378042\n",
      "numeroriga = 8numerocolonna=4\n",
      "cella=59.92557987416713\n",
      "defaulting path for column4 and row 8 and value 59.92557987416713\n",
      "numeroriga = 8numerocolonna=5\n",
      "cella=97.51608335046537\n",
      "numeroriga = 8numerocolonna=6\n",
      "cella=103.27251963268098\n",
      "numeroriga = 8numerocolonna=7\n",
      "cella=60.345866361729065\n",
      "numeroriga = 8numerocolonna=8\n",
      "cella=136.52105143425695\n",
      "numeroriga = 8numerocolonna=9\n",
      "cella=86.45158700087978\n",
      "numeroriga = 8numerocolonna=10\n",
      "cella=145.4154586935424\n",
      "numeroriga = 8numerocolonna=11\n",
      "cella=25.67990539232374\n",
      "defaulting path for column11 and row 8 and value 25.67990539232374\n",
      "numeroriga = 8numerocolonna=12\n",
      "cella=70.00656049660518\n",
      "numeroriga = 8numerocolonna=13\n",
      "cella=50.861958333304266\n",
      "defaulting path for column13 and row 8 and value 50.861958333304266\n",
      "numeroriga = 8numerocolonna=14\n",
      "cella=65.92093211471803\n",
      "numeroriga = 8numerocolonna=15\n",
      "cella=83.79662408302885\n",
      "numeroriga = 8numerocolonna=16\n",
      "cella=82.82040820763332\n",
      "numeroriga = 8numerocolonna=17\n",
      "cella=123.15648066918382\n",
      "numeroriga = 8numerocolonna=18\n",
      "cella=55.35789901432571\n",
      "defaulting path for column18 and row 8 and value 55.35789901432571\n",
      "numeroriga = 8numerocolonna=19\n",
      "cella=107.71199432859918\n",
      "numeroriga = 9numerocolonna=0\n",
      "cella=106.12544155032823\n",
      "numeroriga = 9numerocolonna=1\n",
      "cella=56.56631214269072\n",
      "defaulting path for column1 and row 9 and value 56.56631214269072\n",
      "numeroriga = 9numerocolonna=2\n",
      "cella=19.442929077059333\n",
      "defaulting path for column2 and row 9 and value 19.442929077059333\n",
      "numeroriga = 9numerocolonna=3\n",
      "cella=123.29642248039931\n",
      "numeroriga = 9numerocolonna=4\n",
      "cella=58.04887811607733\n",
      "defaulting path for column4 and row 9 and value 58.04887811607733\n",
      "numeroriga = 9numerocolonna=5\n",
      "cella=106.59565353596473\n",
      "numeroriga = 9numerocolonna=6\n",
      "cella=120.35396573941452\n",
      "numeroriga = 9numerocolonna=7\n",
      "cella=60.064151564833594\n",
      "numeroriga = 9numerocolonna=8\n",
      "cella=145.00204573123077\n",
      "numeroriga = 9numerocolonna=9\n",
      "cella=103.5961914757127\n",
      "numeroriga = 9numerocolonna=10\n",
      "cella=164.44471271060948\n",
      "numeroriga = 9numerocolonna=11\n",
      "cella=20.175218655369083\n",
      "defaulting path for column11 and row 9 and value 20.175218655369083\n",
      "numeroriga = 9numerocolonna=12\n",
      "cella=89.07753419116399\n",
      "numeroriga = 9numerocolonna=13\n",
      "cella=56.880573517764475\n",
      "defaulting path for column13 and row 9 and value 56.880573517764475\n",
      "numeroriga = 9numerocolonna=14\n",
      "cella=70.4345258183249\n",
      "numeroriga = 9numerocolonna=15\n",
      "cella=79.91018532052523\n",
      "numeroriga = 9numerocolonna=16\n",
      "cella=74.06829752814949\n",
      "numeroriga = 9numerocolonna=17\n",
      "cella=62.25423170481453\n",
      "numeroriga = 9numerocolonna=18\n",
      "cella=54.18496137031035\n",
      "defaulting path for column18 and row 9 and value 54.18496137031035\n",
      "numeroriga = 9numerocolonna=19\n",
      "cella=93.83776751680068\n",
      "numeroriga = 10numerocolonna=0\n",
      "cella=106.40967202670129\n",
      "numeroriga = 10numerocolonna=1\n",
      "cella=56.11267757340127\n",
      "defaulting path for column1 and row 10 and value 56.11267757340127\n",
      "numeroriga = 10numerocolonna=2\n",
      "cella=15.277384410594241\n",
      "defaulting path for column2 and row 10 and value 15.277384410594241\n",
      "numeroriga = 10numerocolonna=3\n",
      "cella=109.23590594195595\n",
      "numeroriga = 10numerocolonna=4\n",
      "cella=57.63046124017715\n",
      "defaulting path for column4 and row 10 and value 57.63046124017715\n",
      "numeroriga = 10numerocolonna=5\n",
      "cella=119.8631239791371\n",
      "numeroriga = 10numerocolonna=6\n",
      "cella=134.29041352976515\n",
      "numeroriga = 10numerocolonna=7\n",
      "cella=61.2781045186831\n",
      "numeroriga = 10numerocolonna=8\n",
      "cella=155.62210778211218\n",
      "numeroriga = 10numerocolonna=9\n",
      "cella=98.7761205319588\n",
      "numeroriga = 10numerocolonna=10\n",
      "cella=175.6557825485393\n",
      "numeroriga = 10numerocolonna=11\n",
      "cella=22.45356930565827\n",
      "defaulting path for column11 and row 10 and value 22.45356930565827\n",
      "numeroriga = 10numerocolonna=12\n",
      "cella=78.49849251800237\n",
      "numeroriga = 10numerocolonna=13\n",
      "cella=69.17195284247964\n",
      "numeroriga = 10numerocolonna=14\n",
      "cella=76.72973308646189\n",
      "numeroriga = 10numerocolonna=15\n",
      "cella=76.44222542568582\n",
      "numeroriga = 10numerocolonna=16\n",
      "cella=71.38816086410296\n",
      "numeroriga = 10numerocolonna=17\n",
      "cella=66.03810019599813\n",
      "numeroriga = 10numerocolonna=18\n",
      "cella=23.58254514662444\n",
      "defaulting path for column18 and row 10 and value 23.58254514662444\n",
      "numeroriga = 10numerocolonna=19\n",
      "cella=105.68639599708224\n",
      "numeroriga = 11numerocolonna=0\n",
      "cella=114.13616161500549\n",
      "numeroriga = 11numerocolonna=1\n",
      "cella=29.064792538949888\n",
      "defaulting path for column1 and row 11 and value 29.064792538949888\n",
      "numeroriga = 11numerocolonna=2\n",
      "cella=18.677487216950063\n",
      "defaulting path for column2 and row 11 and value 18.677487216950063\n",
      "numeroriga = 11numerocolonna=3\n",
      "cella=120.34637664955493\n",
      "numeroriga = 11numerocolonna=4\n",
      "cella=61.75428807835781\n",
      "numeroriga = 11numerocolonna=5\n",
      "cella=110.25937047677813\n",
      "numeroriga = 11numerocolonna=6\n",
      "cella=110.43155187961084\n",
      "numeroriga = 11numerocolonna=7\n",
      "cella=69.07380919810564\n",
      "numeroriga = 11numerocolonna=8\n",
      "cella=145.62065218674974\n",
      "numeroriga = 11numerocolonna=9\n",
      "cella=96.4916346635203\n",
      "numeroriga = 11numerocolonna=10\n",
      "cella=178.2565294155064\n",
      "numeroriga = 11numerocolonna=11\n",
      "cella=24.949934505111443\n",
      "defaulting path for column11 and row 11 and value 24.949934505111443\n",
      "numeroriga = 11numerocolonna=12\n",
      "cella=77.7272996663879\n",
      "numeroriga = 11numerocolonna=13\n",
      "cella=69.46717543479159\n",
      "numeroriga = 11numerocolonna=14\n",
      "cella=80.17205722007965\n",
      "numeroriga = 11numerocolonna=15\n",
      "cella=91.44564142872429\n",
      "numeroriga = 11numerocolonna=16\n",
      "cella=95.51457077040668\n",
      "numeroriga = 11numerocolonna=17\n",
      "cella=65.73143668035202\n",
      "numeroriga = 11numerocolonna=18\n",
      "cella=28.965768373022264\n",
      "defaulting path for column18 and row 11 and value 28.965768373022264\n",
      "numeroriga = 11numerocolonna=19\n",
      "cella=118.78729119306044\n",
      "numeroriga = 12numerocolonna=0\n",
      "cella=105.78166288737965\n",
      "numeroriga = 12numerocolonna=1\n",
      "cella=27.067376001834425\n",
      "defaulting path for column1 and row 12 and value 27.067376001834425\n",
      "numeroriga = 12numerocolonna=2\n",
      "cella=15.806937862944938\n",
      "defaulting path for column2 and row 12 and value 15.806937862944938\n",
      "numeroriga = 12numerocolonna=3\n",
      "cella=118.52239800962967\n",
      "numeroriga = 12numerocolonna=4\n",
      "cella=69.26042935740605\n",
      "numeroriga = 12numerocolonna=5\n",
      "cella=68.96188875313484\n",
      "numeroriga = 12numerocolonna=6\n",
      "cella=120.12440689181281\n",
      "numeroriga = 12numerocolonna=7\n",
      "cella=72.63372341913\n",
      "numeroriga = 12numerocolonna=8\n",
      "cella=58.23954133885761\n",
      "defaulting path for column8 and row 12 and value 58.23954133885761\n",
      "numeroriga = 12numerocolonna=9\n",
      "cella=97.47082727199138\n",
      "numeroriga = 12numerocolonna=10\n",
      "cella=202.6518705580255\n",
      "numeroriga = 12numerocolonna=11\n",
      "cella=27.45356458306839\n",
      "defaulting path for column11 and row 12 and value 27.45356458306839\n",
      "numeroriga = 12numerocolonna=12\n",
      "cella=94.14053447151574\n",
      "numeroriga = 12numerocolonna=13\n",
      "cella=74.04157355037626\n",
      "numeroriga = 12numerocolonna=14\n",
      "cella=74.82959185199246\n",
      "numeroriga = 12numerocolonna=15\n",
      "cella=85.27288621460826\n",
      "numeroriga = 12numerocolonna=16\n",
      "cella=92.27719936170928\n",
      "numeroriga = 12numerocolonna=17\n",
      "cella=65.39420838616029\n",
      "numeroriga = 12numerocolonna=18\n",
      "cella=30.921802544113977\n",
      "defaulting path for column18 and row 12 and value 30.921802544113977\n",
      "numeroriga = 12numerocolonna=19\n",
      "cella=123.63489757458994\n",
      "number of defaulting paths =10\n",
      "default probability =0.5\n"
     ]
    }
   ],
   "source": [
    "pdf = pd.DataFrame(paths, index=svjd.time_grid)\n",
    "\n",
    "#print of values\n",
    "print (pdf.to_string())\n",
    "barrier = 60.0\n",
    "\n",
    "numeroColonna = 0\n",
    "numeroRiga = 0\n",
    "# attenzione per ora l'array e cablato su 2 path\n",
    "\n",
    "numeroColonne = len(pdf.columns)\n",
    "defaultingPaths = np.zeros(numeroColonne)\n",
    "for row in pdf.iterrows():\n",
    "\n",
    "\n",
    "    numeroColonna = 0\n",
    "    while numeroColonna < numeroColonne:\n",
    "        print ('numeroriga = ' + str(numeroRiga) + 'numerocolonna=' + str(numeroColonna))\n",
    "\n",
    "\n",
    "        miaCella = pdf.iloc[numeroRiga, numeroColonna]\n",
    "        mioValore = float(miaCella)\n",
    "\n",
    "        print ('cella=' + str(mioValore))\n",
    "\n",
    "        if mioValore < barrier:\n",
    "            defaultingPaths[numeroColonna] = 1\n",
    "            print ('defaulting path for column' + str(numeroColonna) +\n",
    "                   ' and row '+  str(numeroRiga) + ' and value ' +  str(mioValore))\n",
    "        numeroColonna = numeroColonna + 1\n",
    "    numeroRiga = numeroRiga + 1\n",
    "defaultingPathsNumber = 0\n",
    "for x in defaultingPaths:\n",
    "    if x == 1:\n",
    "        defaultingPathsNumber = defaultingPathsNumber +1\n",
    "print ('number of defaulting paths =' + str(defaultingPathsNumber))\n",
    "pd = defaultingPathsNumber / numeroColonne\n",
    "print ('default probability =' + str(pd))"
   ]
  },
  {
   "cell_type": "code",
   "execution_count": 31,
   "metadata": {},
   "outputs": [
    {
     "data": {
      "text/plain": "<Figure size 720x432 with 1 Axes>",
      "image/png": "[encoded data removed]"
     },
     "metadata": {
      "needs_background": "light"
     },
     "output_type": "display_data"
    }
   ],
   "source": [
    "# index level paths\n",
    "pdf[pdf.columns[:no_paths]].plot(colormap=colormap, lw=lw,\n",
    "                           figsize=figsize, legend=legend);"
   ]
  },
  {
   "cell_type": "code",
   "execution_count": 32,
   "metadata": {},
   "outputs": [],
   "source": [
    "vols = svjd.get_volatility_values()"
   ]
  },
  {
   "cell_type": "code",
   "execution_count": 33,
   "metadata": {},
   "outputs": [
    {
     "ename": "AttributeError",
     "evalue": "'float' object has no attribute 'DataFrame'",
     "output_type": "error",
     "traceback": [
      "\u001B[1;31m---------------------------------------------------------------------------\u001B[0m",
      "\u001B[1;31mAttributeError\u001B[0m                            Traceback (most recent call last)",
      "\u001B[1;32m~\\AppData\\Local\\Temp/ipykernel_15692/563154691.py\u001B[0m in \u001B[0;36m<module>\u001B[1;34m\u001B[0m\n\u001B[1;32m----> 1\u001B[1;33m \u001B[0mpdf\u001B[0m \u001B[1;33m=\u001B[0m \u001B[0mpd\u001B[0m\u001B[1;33m.\u001B[0m\u001B[0mDataFrame\u001B[0m\u001B[1;33m(\u001B[0m\u001B[0mvols\u001B[0m\u001B[1;33m,\u001B[0m \u001B[0mindex\u001B[0m\u001B[1;33m=\u001B[0m\u001B[0msvjd\u001B[0m\u001B[1;33m.\u001B[0m\u001B[0mtime_grid\u001B[0m\u001B[1;33m)\u001B[0m\u001B[1;33m\u001B[0m\u001B[1;33m\u001B[0m\u001B[0m\n\u001B[0m\u001B[0;32m      2\u001B[0m \u001B[1;33m\u001B[0m\u001B[0m\n",
      "\u001B[1;31mAttributeError\u001B[0m: 'float' object has no attribute 'DataFrame'"
     ]
    }
   ],
   "source": [
    "pdf = pd.DataFrame(vols, index=svjd.time_grid)"
   ]
  },
  {
   "cell_type": "code",
   "execution_count": null,
   "metadata": {},
   "outputs": [],
   "source": [
    "# volatility paths\n",
    "pdf[pdf.columns[:no_paths]].plot(colormap=colormap, lw=lw,\n",
    "                           figsize=figsize, legend=legend);"
   ]
  },
  {
   "cell_type": "markdown",
   "metadata": {},
   "source": [
    "## sabr_stochastic_volatility"
   ]
  },
  {
   "cell_type": "markdown",
   "metadata": {},
   "source": [
    "The `sabr_stochastic_volatility` model is based on the **Hagan et al. (2002)** paper. It needs the following parameters:"
   ]
  },
  {
   "cell_type": "code",
   "execution_count": null,
   "metadata": {},
   "outputs": [],
   "source": [
    "# short rate like parameters\n",
    "me.add_constant('initial_value', 0.5)\n",
    "  # starting value (eg inital short rate)\n",
    "me.add_constant('alpha', 0.04)\n",
    "  # initial variance\n",
    "me.add_constant('beta', 0.5)\n",
    "  # exponent\n",
    "me.add_constant('rho', 0.1)\n",
    "  # correlation factor\n",
    "me.add_constant('vol_vol', 0.5)\n",
    "  # volatility of volatility/variance"
   ]
  },
  {
   "cell_type": "code",
   "execution_count": null,
   "metadata": {},
   "outputs": [],
   "source": [
    "sabr = sabr_stochastic_volatility('sabr', me)"
   ]
  },
  {
   "cell_type": "code",
   "execution_count": null,
   "metadata": {
    "collapsed": true
   },
   "outputs": [],
   "source": [
    "paths = sabr.get_instrument_values()"
   ]
  },
  {
   "cell_type": "code",
   "execution_count": null,
   "metadata": {},
   "outputs": [],
   "source": [
    "pdf = pd.DataFrame(paths, index=sabr.time_grid)"
   ]
  },
  {
   "cell_type": "code",
   "execution_count": null,
   "metadata": {},
   "outputs": [],
   "source": [
    "pdf[pdf.columns[:no_paths]].plot(colormap=colormap, lw=lw,\n",
    "                           figsize=figsize, legend=legend);"
   ]
  },
  {
   "cell_type": "code",
   "execution_count": null,
   "metadata": {
    "collapsed": true
   },
   "outputs": [],
   "source": [
    "vols = sabr.get_volatility_values()"
   ]
  },
  {
   "cell_type": "code",
   "execution_count": null,
   "metadata": {
    "collapsed": true
   },
   "outputs": [],
   "source": [
    "pdf = pd.DataFrame(vols, index=sabr.time_grid)"
   ]
  },
  {
   "cell_type": "code",
   "execution_count": null,
   "metadata": {},
   "outputs": [],
   "source": [
    "pdf[pdf.columns[:no_paths]].plot(colormap=colormap, lw=lw,\n",
    "                           figsize=figsize, legend=legend);"
   ]
  },
  {
   "cell_type": "markdown",
   "metadata": {},
   "source": [
    "## mean_reverting_diffusion"
   ]
  },
  {
   "cell_type": "markdown",
   "metadata": {},
   "source": [
    "The `mean_reverting_diffusion` model class is based on the **Vasicek (1977)** short rate model. It is suited to model mean-reverting quantities, like short rates, volatilities, etc. The model needs the following set of parameters:"
   ]
  },
  {
   "cell_type": "code",
   "execution_count": null,
   "metadata": {},
   "outputs": [],
   "source": [
    "# short rate like parameters\n",
    "me.add_constant('initial_value', 0.05)\n",
    "  # starting value (eg inital short rate)\n",
    "me.add_constant('volatility', 0.05)\n",
    "  # volatility factor\n",
    "me.add_constant('kappa', 2.5)\n",
    "  # mean reversion factor\n",
    "me.add_constant('theta', 0.01)\n",
    "  # long-term mean"
   ]
  },
  {
   "cell_type": "code",
   "execution_count": null,
   "metadata": {},
   "outputs": [],
   "source": [
    "mrd = mean_reverting_diffusion('mrd', me)"
   ]
  },
  {
   "cell_type": "code",
   "execution_count": null,
   "metadata": {},
   "outputs": [],
   "source": [
    "paths = mrd.get_instrument_values()"
   ]
  },
  {
   "cell_type": "code",
   "execution_count": null,
   "metadata": {
    "collapsed": true
   },
   "outputs": [],
   "source": [
    "pdf_1 = pd.DataFrame(paths, index=mrd.time_grid)"
   ]
  },
  {
   "cell_type": "markdown",
   "metadata": {},
   "source": [
    "Simulated paths can go negative which might be undesireable, e.g. when modeling volatility processes."
   ]
  },
  {
   "cell_type": "code",
   "execution_count": null,
   "metadata": {
    "scrolled": true
   },
   "outputs": [],
   "source": [
    "pdf_1[pdf_1.columns[:no_paths]].plot(colormap=colormap, lw=lw,\n",
    "                           figsize=figsize, legend=legend);"
   ]
  },
  {
   "cell_type": "markdown",
   "metadata": {},
   "source": [
    "Using a full trunctation discretization scheme ensures positive paths."
   ]
  },
  {
   "cell_type": "code",
   "execution_count": null,
   "metadata": {},
   "outputs": [],
   "source": [
    "mrd = mean_reverting_diffusion('mrd', me, truncation=True)\n",
    "paths = mrd.get_instrument_values()\n",
    "pdf_1 = pd.DataFrame(paths, index=mrd.time_grid)"
   ]
  },
  {
   "cell_type": "code",
   "execution_count": null,
   "metadata": {
    "scrolled": true
   },
   "outputs": [],
   "source": [
    "pdf_1[pdf_1.columns[:no_paths]].plot(colormap=colormap, lw=lw,\n",
    "                           figsize=figsize, legend=legend);"
   ]
  },
  {
   "cell_type": "markdown",
   "metadata": {},
   "source": [
    "## square_root_diffusion"
   ]
  },
  {
   "cell_type": "markdown",
   "metadata": {},
   "source": [
    "The `square_root_diffusion` model class is based on the **square-root diffusion according to Cox-Ingersoll-Ross (1985)**. This class is often used to model stochastic short rates or a volatility process (eg like the VSTOXX volatility index). The model needs the same parameters as the `mean_reverting_diffusion`."
   ]
  },
  {
   "cell_type": "markdown",
   "metadata": {},
   "source": [
    "As before, the handling of the model class is the same, making it easy to simulate paths given the parameter specifications and visualize them."
   ]
  },
  {
   "cell_type": "code",
   "execution_count": null,
   "metadata": {},
   "outputs": [],
   "source": [
    "srd = square_root_diffusion('srd', me)"
   ]
  },
  {
   "cell_type": "code",
   "execution_count": null,
   "metadata": {},
   "outputs": [],
   "source": [
    "paths = srd.get_instrument_values()"
   ]
  },
  {
   "cell_type": "code",
   "execution_count": null,
   "metadata": {},
   "outputs": [],
   "source": [
    "pdf_2 = pd.DataFrame(paths, index=srd.time_grid)"
   ]
  },
  {
   "cell_type": "code",
   "execution_count": null,
   "metadata": {},
   "outputs": [],
   "source": [
    "pdf_2[pdf_2.columns[:no_paths]].plot(colormap=colormap, lw=lw,\n",
    "                           figsize=figsize, legend=legend);"
   ]
  },
  {
   "cell_type": "markdown",
   "metadata": {},
   "source": [
    "Let us compare the simulated paths --- based on the same parameters --- for the `mean_reverting_diffusion` and the `square_root_diffusion` in a single chart. The paths from the `mean_reverting_diffusion` object are much more volatile."
   ]
  },
  {
   "cell_type": "code",
   "execution_count": null,
   "metadata": {},
   "outputs": [],
   "source": [
    "ax = pdf_1[pdf_1.columns[:no_paths]].plot(style='b-.', lw=lw,\n",
    "                           figsize=figsize, legend=legend);\n",
    "pdf_2[pdf_1.columns[:no_paths]].plot(style='r--', lw=lw,\n",
    "                           figsize=figsize, legend=legend, ax=ax);"
   ]
  },
  {
   "cell_type": "markdown",
   "metadata": {},
   "source": [
    "However, the *mean values* do not differ that much since both share the same long-term mean level. Mean reversion is faster with the `square_root_diffusion` model."
   ]
  },
  {
   "cell_type": "code",
   "execution_count": null,
   "metadata": {},
   "outputs": [],
   "source": [
    "ax = pdf_1.mean(axis=1).plot(style='b-.', lw=lw,\n",
    "                    figsize=figsize, label='mrd', legend=True);\n",
    "pdf_2.mean(axis=1).plot(style='r--', lw=lw,\n",
    "                    figsize=figsize, label='srd', legend=True);"
   ]
  },
  {
   "cell_type": "markdown",
   "metadata": {},
   "source": [
    "## square_root_jump_diffusion"
   ]
  },
  {
   "cell_type": "markdown",
   "metadata": {},
   "source": [
    "*Experimental Status*"
   ]
  },
  {
   "cell_type": "markdown",
   "metadata": {},
   "source": [
    "Building on the square-root diffusion, there is a **square-root j\n",
    "The following visualizes 10 simulated paths for the risk factor process.\n",
    "\n",
    "1825\n",
    "paths = sv.get_instrument_values()\n",
    "1826\n",
    "pdf = pd.DataFrame(paths, index=sv.time_grid)\n",
    "1827\n",
    "# index level paths\n",
    "pdf[pdf.columns[:no_paths]].plot(colormap=colormap, lw=lw,\n",
    "                           figsize=figsize, legend=legend);\n",
    "ump diffusion** adding a log-normally distributed jump component. The following parmeters might be for a volatility index, for example. In this case, the major risk might be a large positive jump in the index. The following model parameters are needed:"
   ]
  },
  {
   "cell_type": "code",
   "execution_count": null,
   "metadata": {},
   "outputs": [],
   "source": [
    "# volatility index like parameters\n",
    "me.add_constant('initial_value', 25.)\n",
    "  # starting values\n",
    "me.add_constant('kappa', 2.)\n",
    "  # mean-reversion factor\n",
    "me.add_constant('theta', 20.)\n",
    "  # long-term mean\n",
    "me.add_constant('volatility', 1.)\n",
    "  # volatility of diffusion\n",
    "me.add_constant('lambda', 0.3)\n",
    "  # probability for jump p.a.\n",
    "me.add_constant('mu', 0.4)\n",
    "  # expected jump size\n",
    "me.add_constant('delta', 0.2)\n",
    "  # standard deviation of jump"
   ]
  },
  {
   "cell_type": "markdown",
   "metadata": {},
   "source": [
    "Once the `square_root_jump_diffusion` class is instantiated, the handling of the resulting object is the same as with the other model classes."
   ]
  },
  {
   "cell_type": "code",
   "execution_count": null,
   "metadata": {},
   "outputs": [],
   "source": [
    "srjd = square_root_jump_diffusion('srjd', me)"
   ]
  },
  {
   "cell_type": "code",
   "execution_count": null,
   "metadata": {},
   "outputs": [],
   "source": [
    "paths = srjd.get_instrument_values()"
   ]
  },
  {
   "cell_type": "code",
   "execution_count": null,
   "metadata": {},
   "outputs": [],
   "source": [
    "pdf = pd.DataFrame(paths, index=srjd.time_grid)"
   ]
  },
  {
   "cell_type": "code",
   "execution_count": null,
   "metadata": {},
   "outputs": [],
   "source": [
    "pdf[pdf.columns[:no_paths]].plot(colormap=colormap, lw=lw,\n",
    "                           figsize=figsize, legend=legend);"
   ]
  },
  {
   "cell_type": "code",
   "execution_count": null,
   "metadata": {},
   "outputs": [],
   "source": [
    "paths[-1].mean()"
   ]
  },
  {
   "cell_type": "markdown",
   "metadata": {},
   "source": [
    "## square_root_jump_diffusion_plus"
   ]
  },
  {
   "cell_type": "markdown",
   "metadata": {},
   "source": [
    "*Experimental Status*"
   ]
  },
  {
   "cell_type": "markdown",
   "metadata": {},
   "source": [
    "This model class further enhances the `square_root_jump_diffusion` class by adding a **deterministic shift approach according to Brigo-Mercurio (2001)** to account for a market given term structure (e.g. in volatility, interest rates). Let us define a simple term structure as follows:"
   ]
  },
  {
   "cell_type": "code",
   "execution_count": null,
   "metadata": {},
   "outputs": [],
   "source": [
    "term_structure = np.array([(dt.datetime(2015, 1, 1), 25.),\n",
    "                  (dt.datetime(2015, 3, 31), 24.),\n",
    "                  (dt.datetime(2015, 6, 30), 27.),\n",
    "                  (dt.datetime(2015, 9, 30), 28.),\n",
    "                  (dt.datetime(2015, 12, 31), 30.)])"
   ]
  },
  {
   "cell_type": "code",
   "execution_count": null,
   "metadata": {},
   "outputs": [],
   "source": [
    "me.add_curve('term_structure', term_structure)"
   ]
  },
  {
   "cell_type": "code",
   "execution_count": null,
   "metadata": {},
   "outputs": [],
   "source": [
    "srjdp = square_root_jump_diffusion_plus('srjdp', me)"
   ]
  },
  {
   "cell_type": "markdown",
   "metadata": {},
   "source": [
    "The method `generate_shift_base` calibrates the square-root diffusion to the given term structure (varying the parameters `kappa`, `theta` and `volatility`). "
   ]
  },
  {
   "cell_type": "code",
   "execution_count": null,
   "metadata": {},
   "outputs": [],
   "source": [
    "srjdp.generate_shift_base((2.0, 20., 0.1))"
   ]
  },
  {
   "cell_type": "markdown",
   "metadata": {},
   "source": [
    "The results are `shift_base` values, i.e. the difference between the model and market implied foward rates."
   ]
  },
  {
   "cell_type": "code",
   "execution_count": null,
   "metadata": {},
   "outputs": [],
   "source": [
    "srjdp.shift_base\n",
    "  # difference between market and model\n",
    "  # forward rates after calibration"
   ]
  },
  {
   "cell_type": "markdown",
   "metadata": {},
   "source": [
    "The method `update_shift_values` then calculates deterministic shift values for the relevant time grid by interpolation of the `shift_base` values."
   ]
  },
  {
   "cell_type": "code",
   "execution_count": null,
   "metadata": {},
   "outputs": [],
   "source": [
    "srjdp.update_shift_values()"
   ]
  },
  {
   "cell_type": "code",
   "execution_count": null,
   "metadata": {},
   "outputs": [],
   "source": [
    "srjdp.shift_values\n",
    "  # shift values to apply to simulation scheme\n",
    "  # given the shift base values"
   ]
  },
  {
   "cell_type": "markdown",
   "metadata": {},
   "source": [
    "When simulating the process, the model forward rates ..."
   ]
  },
  {
   "cell_type": "code",
   "execution_count": null,
   "metadata": {},
   "outputs": [],
   "source": [
    "srjdp.update_forward_rates()\n",
    "srjdp.forward_rates\n",
    "  # model forward rates resulting from parameters"
   ]
  },
  {
   "cell_type": "markdown",
   "metadata": {},
   "source": [
    "... are then shifted by the `shift_values` to better match the term structure."
   ]
  },
  {
   "cell_type": "code",
   "execution_count": null,
   "metadata": {},
   "outputs": [],
   "source": [
    "srjdp.forward_rates[:, 1] + srjdp.shift_values[:, 1]\n",
    "  # shifted foward rates"
   ]
  },
  {
   "cell_type": "markdown",
   "metadata": {},
   "source": [
    "The simulated paths then are including the deterministic shift."
   ]
  },
  {
   "cell_type": "code",
   "execution_count": null,
   "metadata": {},
   "outputs": [],
   "source": [
    "paths = srjdp.get_instrument_values()"
   ]
  },
  {
   "cell_type": "code",
   "execution_count": null,
   "metadata": {},
   "outputs": [],
   "source": [
    "pdf = pd.DataFrame(paths, index=srjdp.time_grid)"
   ]
  },
  {
   "cell_type": "code",
   "execution_count": null,
   "metadata": {
    "scrolled": true
   },
   "outputs": [],
   "source": [
    "pdf[pdf.columns[:no_paths]].plot(colormap=colormap, lw=lw,\n",
    "                           figsize=figsize, legend=legend);"
   ]
  },
  {
   "cell_type": "markdown",
   "metadata": {},
   "source": [
    "The effect might not be immediately visible in the paths plot, however, the mean of the simulated values in this case is higher by about 1 point compared to the `square_root_jump_diffusion` simulation without deterministic shift."
   ]
  },
  {
   "cell_type": "code",
   "execution_count": null,
   "metadata": {},
   "outputs": [],
   "source": [
    "paths[-1].mean()"
   ]
  },
  {
   "cell_type": "markdown",
   "metadata": {},
   "source": [
    "**Copyright, License & Disclaimer**\n",
    "\n",
    "© Dr. Yves J. Hilpisch | The Python Quants GmbH\n",
    "\n",
    "DX Analytics (the \"dx library\" or \"dx package\") is licensed under the GNU Affero General\n",
    "Public License version 3 or later (see http://www.gnu.org/licenses/).\n",
    "\n",
    "DX Analytics comes with no representations or warranties, to the extent\n",
    "permitted by applicable law.\n",
    "\n",
    "http://tpq.io | [dx@tpq.io](mailto:team@tpq.io) |\n",
    "http://twitter.com/dyjh\n",
    "\n",
    "<img src=\"http://hilpisch.com/tpq_logo.png\" alt=\"The Python Quants\" width=\"35%\" align=\"right\" border=\"0\"><br>\n",
    "\n",
    "**Quant Platform** | http://pqp.io\n",
    "\n",
    "**Python for Finance Training** | http://training.tpq.io\n",
    "\n",
    "**Certificate in Computational Finance** | http://compfinance.tpq.io\n",
    "\n",
    "**Derivatives Analytics with Python (Wiley Finance)** |\n",
    "http://dawp.tpq.io\n",
    "\n",
    "**Python for Finance (2nd ed., O'Reilly)** |\n",
    "http://py4fi.tpq.io"
   ]
  }
 ],
 "metadata": {
  "kernelspec": {
   "name": "pycharm-3c212cfe",
   "language": "python",
   "display_name": "PyCharm (dx)"
  },
  "language_info": {
   "codemirror_mode": {
    "name": "ipython",
    "version": 3
   },
   "file_extension": ".py",
   "mimetype": "text/x-python",
   "name": "python",
   "nbconvert_exporter": "python",
   "pygments_lexer": "ipython3",
   "version": "3.6.8"
  }
 },
 "nbformat": 4,
 "nbformat_minor": 1
}