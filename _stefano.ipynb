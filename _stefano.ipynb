{
 "cells": [
  {
   "cell_type": "markdown",
   "metadata": {},
   "source": [
    "<img src=\"http://hilpisch.com/tpq_logo.png\" alt=\"The Python Quants\" width=\"45%\" align=\"right\" border=\"4\">"
   ]
  },
  {
   "cell_type": "markdown",
   "metadata": {},
   "source": [
    "# Model Classes"
   ]
  },
  {
   "cell_type": "markdown",
   "metadata": {},
   "source": [
    "The model classes represent the fundamental building blocks to model a financial market. They are used to represent the fundamental risk factors driving uncertainty (e.g. a stock, an equity index an interest rate). The following models are available:\n",
    "\n",
    "* `geometric_brownian_motion`: Black-Scholes-Merton (1973) geometric Brownian motion\n",
    "* `jump_diffusion`: Merton (1976) jump diffusion\n",
    "* `stochastic_volatility`: Heston (1993) stochastic volatility model\n",
    "* `stoch_vol_jump_diffusion`: Bates (1996) stochastic volatility jump diffusion\n",
    "* `sabr_stochastic_volatility`: Hagan et al. (2002) stochastic volatility model\n",
    "* `mean_reverting_diffusion`: Vasicek (1977) short rate model\n",
    "* `square_root_diffusion`: Cox-Ingersoll-Ross (1985) square-root diffusion\n",
    "* `square_root_jump_diffusion`: square-root jump diffusion (experimental)\n",
    "* `square_root_jump_diffusion_plus`: square-root jump diffusion plus term structure (experimental)"
   ]
  },
  {
   "cell_type": "code",
   "execution_count": 1774,
   "metadata": {},
   "outputs": [],
   "source": [
    "from dx import *\n",
    "from pylab import plt\n",
    "plt.style.use('seaborn')"
   ]
  },
  {
   "cell_type": "code",
   "execution_count": 1775,
   "metadata": {},
   "outputs": [],
   "source": [
    "np.set_printoptions(precision=3)"
   ]
  },
  {
   "cell_type": "markdown",
   "metadata": {},
   "source": [
    "Throughout this section we fix a `constant_short_rate` discounting object."
   ]
  },
  {
   "cell_type": "code",
   "execution_count": 1776,
   "metadata": {},
   "outputs": [],
   "source": [
    "r = constant_short_rate('r', 0.01)"
   ]
  },
  {
   "cell_type": "markdown",
   "metadata": {},
   "source": [
    "## geometric_brownian_motion"
   ]
  },
  {
   "cell_type": "markdown",
   "metadata": {},
   "source": [
    "To instantiate any kind of model class, you need a `market_environment` object conataining a minimum set of data (depending on the specific model class)."
   ]
  },
  {
   "cell_type": "code",
   "execution_count": 1777,
   "metadata": {},
   "outputs": [],
   "source": [
    "me = market_environment(name='me', pricing_date=dt.datetime(2021, 1, 1))"
   ]
  },
  {
   "cell_type": "markdown",
   "metadata": {},
   "source": [
    "For the **geometric Browniam motion class**, the minimum set is as follows with regard to the constant parameter values. Here, we simply make assumptions, in practice the single values would, for example be retrieved from a data service provider like Thomson Reuters or Bloomberg. The frequency parameter is according to the pandas frequency conventions (cf. <a href=\"http://pandas.pydata.org/pandas-docs/stable/timeseries.html\" target=\"_blank\">http://pandas.pydata.org/pandas-docs/stable/timeseries.html</a>)."
   ]
  },
  {
   "cell_type": "code",
   "execution_count": 1778,
   "metadata": {},
   "outputs": [],
   "source": [
    "me.add_constant('initial_value', 100)\n",
    "me.add_constant('volatility', 0.2)\n",
    "me.add_constant('final_date', dt.datetime(2021, 12, 31))\n",
    "# time horizon for the simulation\n",
    "me.add_constant('currency', 'EUR')\n",
    "me.add_constant('frequency', 'M')\n",
    "# monthly frequency; paramter accorind to pandas convention\n",
    "number_of_paths = 2\n",
    "me.add_constant('paths',   number_of_paths)\n",
    "# number of paths for simulation"
   ]
  },
  {
   "cell_type": "markdown",
   "metadata": {},
   "source": [
    "Every model class needs a discounting object since this defines the risk-neutral drift of the risk factor."
   ]
  },
  {
   "cell_type": "code",
   "execution_count": 1779,
   "metadata": {},
   "outputs": [],
   "source": [
    "me.add_curve('discount_curve', r)"
   ]
  },
  {
   "cell_type": "markdown",
   "metadata": {},
   "source": [
    "The instantiation of a model class is then accomplished by providing a name as a `string` object and the respective `market_environment` object."
   ]
  },
  {
   "cell_type": "code",
   "execution_count": 1780,
   "metadata": {},
   "outputs": [],
   "source": [
    "gbm = geometric_brownian_motion('gbm', me)"
   ]
  },
  {
   "cell_type": "markdown",
   "metadata": {},
   "source": [
    "The `generate_time_grid` method generates a `ndarray` objet of `datetime` objects given the specifications in the market environment. This represents the discretization of the time interval between the `pricing_date` and the `final_date`. This method does not need to be called actively."
   ]
  },
  {
   "cell_type": "code",
   "execution_count": 1781,
   "metadata": {},
   "outputs": [],
   "source": [
    "gbm.generate_time_grid()"
   ]
  },
  {
   "cell_type": "code",
   "execution_count": 1782,
   "metadata": {},
   "outputs": [
    {
     "data": {
      "text/plain": "array([datetime.datetime(2021, 1, 1, 0, 0),\n       datetime.datetime(2021, 1, 31, 0, 0),\n       datetime.datetime(2021, 2, 28, 0, 0),\n       datetime.datetime(2021, 3, 31, 0, 0),\n       datetime.datetime(2021, 4, 30, 0, 0),\n       datetime.datetime(2021, 5, 31, 0, 0),\n       datetime.datetime(2021, 6, 30, 0, 0),\n       datetime.datetime(2021, 7, 31, 0, 0),\n       datetime.datetime(2021, 8, 31, 0, 0),\n       datetime.datetime(2021, 9, 30, 0, 0),\n       datetime.datetime(2021, 10, 31, 0, 0),\n       datetime.datetime(2021, 11, 30, 0, 0),\n       datetime.datetime(2021, 12, 31, 0, 0)], dtype=object)"
     },
     "execution_count": 1782,
     "metadata": {},
     "output_type": "execute_result"
    }
   ],
   "source": [
    "gbm.time_grid"
   ]
  },
  {
   "cell_type": "markdown",
   "metadata": {},
   "source": [
    "The simulation itself is initiated by a call of the method `get_instrument_values`. It returns an `ndarray` object containing the simulated paths for the risk factor."
   ]
  },
  {
   "cell_type": "code",
   "execution_count": 1783,
   "metadata": {},
   "outputs": [],
   "source": [
    "paths = gbm.get_instrument_values()"
   ]
  },
  {
   "cell_type": "code",
   "execution_count": 1784,
   "metadata": {},
   "outputs": [
    {
     "data": {
      "text/plain": "array([[100.   , 100.   ],\n       [103.008,  96.921],\n       [102.689,  97.073],\n       [109.181,  91.145],\n       [106.021,  93.708],\n       [109.987,  90.175],\n       [108.782,  91.025],\n       [103.772,  95.258],\n       [109.809,  89.867],\n       [104.986,  93.842],\n       [111.871,  87.916],\n       [103.547,  94.828],\n       [ 92.185, 106.336]])"
     },
     "execution_count": 1784,
     "metadata": {},
     "output_type": "execute_result"
    }
   ],
   "source": [
    "paths[:, :2]"
   ]
  },
  {
   "cell_type": "markdown",
   "metadata": {},
   "source": [
    "These can, for instance, be visualized easily. First some plotting parameter specifications we want to use throughout."
   ]
  },
  {
   "cell_type": "code",
   "execution_count": 1785,
   "metadata": {},
   "outputs": [],
   "source": [
    "%matplotlib inline\n",
    "colormap='RdYlBu_r'\n",
    "lw=1.25\n",
    "figsize=(10, 6)\n",
    "legend=False\n",
    "no_paths=10"
   ]
  },
  {
   "cell_type": "markdown",
   "metadata": {},
   "source": [
    "For easy plotting, we put the data with the `time_grid` information into a pandas `DataFrame` object."
   ]
  },
  {
   "cell_type": "code",
   "execution_count": 1786,
   "metadata": {},
   "outputs": [],
   "source": [
    "pdf = pd.DataFrame(paths, index=gbm.time_grid)"
   ]
  },
  {
   "cell_type": "markdown",
   "metadata": {},
   "source": [
    "The following visualizes the first 10 paths of the simulation."
   ]
  },
  {
   "cell_type": "code",
   "execution_count": null,
   "metadata": {
    "pycharm": {
     "is_executing": true
    }
   },
   "outputs": [],
   "source": [
    "pdf[pdf.columns[:no_paths]].plot(colormap=colormap, lw=lw,\n",
    "                           figsize=figsize, legend=legend);"
   ]
  },
  {
   "cell_type": "markdown",
   "metadata": {},
   "source": [
    "## jump_diffusion"
   ]
  },
  {
   "cell_type": "markdown",
   "metadata": {},
   "source": [
    "The next model is the **jump diffusion model from Merton (1976)** adding a log-normally distributed jump component to the geometric Brownian motion. Three more parameter values are needed:"
   ]
  },
  {
   "cell_type": "code",
   "execution_count": null,
   "metadata": {
    "pycharm": {
     "is_executing": true
    }
   },
   "outputs": [],
   "source": [
    "me.add_constant('lambda', 0.7)\n",
    "  # probability for a jump p.a.\n",
    "me.add_constant('mu', -0.8)\n",
    "  # expected relative jump size\n",
    "me.add_constant('delta', 0.1)\n",
    "  # standard deviation of relative jump"
   ]
  },
  {
   "cell_type": "markdown",
   "metadata": {},
   "source": [
    "The instantiation of the model class and usage then is the same as before."
   ]
  },
  {
   "cell_type": "code",
   "execution_count": null,
   "metadata": {
    "pycharm": {
     "is_executing": true
    }
   },
   "outputs": [],
   "source": [
    "jd = jump_diffusion('jd', me)"
   ]
  },
  {
   "cell_type": "code",
   "execution_count": null,
   "metadata": {
    "pycharm": {
     "is_executing": true
    }
   },
   "outputs": [],
   "source": [
    "paths = jd.get_instrument_values()"
   ]
  },
  {
   "cell_type": "code",
   "execution_count": null,
   "metadata": {
    "pycharm": {
     "is_executing": true
    }
   },
   "outputs": [],
   "source": [
    "pdf = pd.DataFrame(paths, index=jd.time_grid)"
   ]
  },
  {
   "cell_type": "code",
   "execution_count": null,
   "metadata": {
    "pycharm": {
     "is_executing": true
    }
   },
   "outputs": [],
   "source": [
    "pdf[pdf.columns[:no_paths]].plot(colormap=colormap, lw=lw,\n",
    "                           figsize=figsize, legend=legend);"
   ]
  },
  {
   "cell_type": "markdown",
   "metadata": {},
   "source": [
    "## stochastic_volatility"
   ]
  },
  {
   "cell_type": "markdown",
   "metadata": {},
   "source": [
    "Another important financial model is the  **stochastic volatility model according to Heston (1993)**. Compared to the geometric Brownian motion, this model class need four more parameter values."
   ]
  },
  {
   "cell_type": "code",
   "execution_count": null,
   "metadata": {
    "pycharm": {
     "is_executing": true
    }
   },
   "outputs": [],
   "source": [
    "me.add_constant('rho', -.7)\n",
    "  # correlation between risk factor process (eg index)\n",
    "  # and variance process \n",
    "me.add_constant('kappa', 2.5)\n",
    "  # mean reversion factor\n",
    "me.add_constant('theta', 0.1)\n",
    "  # long-term variance level\n",
    "me.add_constant('vol_vol', 0.1)\n",
    "  # volatility factor for variance process"
   ]
  },
  {
   "cell_type": "markdown",
   "metadata": {},
   "source": [
    "Again, the instantiation and usage of this model class are essentially the same."
   ]
  },
  {
   "cell_type": "code",
   "execution_count": null,
   "metadata": {
    "pycharm": {
     "is_executing": true
    }
   },
   "outputs": [],
   "source": [
    "sv = stochastic_volatility('sv', me)"
   ]
  },
  {
   "cell_type": "markdown",
   "metadata": {},
   "source": [
    "The following visualizes 10 simulated paths for the **risk factor process**."
   ]
  },
  {
   "cell_type": "code",
   "execution_count": null,
   "metadata": {
    "pycharm": {
     "is_executing": true
    }
   },
   "outputs": [],
   "source": [
    "paths = sv.get_instrument_values()"
   ]
  },
  {
   "cell_type": "code",
   "execution_count": null,
   "metadata": {
    "pycharm": {
     "is_executing": true
    }
   },
   "outputs": [],
   "source": [
    "pdf = pd.DataFrame(paths, index=sv.time_grid)"
   ]
  },
  {
   "cell_type": "code",
   "execution_count": null,
   "metadata": {
    "pycharm": {
     "is_executing": true
    }
   },
   "outputs": [],
   "source": [
    "# index level paths\n",
    "pdf[pdf.columns[:no_paths]].plot(colormap=colormap, lw=lw,\n",
    "                           figsize=figsize, legend=legend);"
   ]
  },
  {
   "cell_type": "markdown",
   "metadata": {},
   "source": [
    "This model class has a second set of simulated paths, namely for the **variance process**."
   ]
  },
  {
   "cell_type": "code",
   "execution_count": null,
   "metadata": {
    "pycharm": {
     "is_executing": true
    }
   },
   "outputs": [],
   "source": [
    "vols = sv.get_volatility_values()"
   ]
  },
  {
   "cell_type": "code",
   "execution_count": null,
   "metadata": {
    "pycharm": {
     "is_executing": true
    }
   },
   "outputs": [],
   "source": [
    "pdf = pd.DataFrame(vols, index=sv.time_grid)"
   ]
  },
  {
   "cell_type": "code",
   "execution_count": null,
   "metadata": {
    "pycharm": {
     "is_executing": true
    }
   },
   "outputs": [],
   "source": [
    "# volatility paths\n",
    "pdf[pdf.columns[:no_paths]].plot(colormap=colormap, lw=lw,\n",
    "                           figsize=figsize, legend=legend);"
   ]
  },
  {
   "cell_type": "markdown",
   "metadata": {},
   "source": [
    "## stoch_vol_jump_diffusion"
   ]
  },
  {
   "cell_type": "markdown",
   "metadata": {},
   "source": [
    "The next model class, i.e. `stoch_vol_jump_diffusion`, combines **stochastic volatility with a jump diffusion according to Bates (1996).** Our market environment object `me` contains already all parameters needed for the instantiation of this model."
   ]
  },
  {
   "cell_type": "code",
   "execution_count": null,
   "metadata": {
    "pycharm": {
     "is_executing": true
    }
   },
   "outputs": [],
   "source": [
    "svjd = stoch_vol_jump_diffusion('svjd', me)"
   ]
  },
  {
   "cell_type": "markdown",
   "metadata": {},
   "source": [
    "As with the `stochastic_volatility` class, this class generates simulated paths for both the **risk factor and variance process**."
   ]
  },
  {
   "cell_type": "code",
   "execution_count": null,
   "metadata": {
    "pycharm": {
     "is_executing": true
    }
   },
   "outputs": [],
   "source": [
    "paths = svjd.get_instrument_values()"
   ]
  },
  {
   "cell_type": "code",
   "execution_count": null,
   "metadata": {
    "pycharm": {
     "is_executing": true
    }
   },
   "outputs": [],
   "source": [
    "pdf = pd.DataFrame(paths, index=svjd.time_grid)\n",
    "\n",
    "#print of values\n",
    "print (pdf.to_string())\n",
    "barrier = 70.0\n",
    "defaultingPaths = 0\n",
    "numeroColonne = 0\n",
    "numeroColonna = 0\n",
    "numeroRiga = 0\n",
    "for row in pdf.iterrows():\n",
    "    numeroColonne = len(pdf.columns)\n",
    "\n",
    "    numeroColonna = 0\n",
    "    while numeroColonna < numeroColonne:\n",
    "        print ('numeroriga = ' + str(numeroRiga) + 'numerocolonna=' + str(numeroColonna))\n",
    "\n",
    "\n",
    "        miaCella = pdf.iloc[numeroRiga, numeroColonna]\n",
    "        mioValore = float(miaCella)\n",
    "\n",
    "        print ('cella=' + str(mioValore))\n",
    "\n",
    "        if mioValore < barrier:\n",
    "            defaultingPaths = defaultingPaths + 1\n",
    "            print ('defaulting path for column' + str(numeroColonna) + ' and row '+  str(numeroRiga) + ' and value ' +  + str(mioValore))\n",
    "        numeroColonna = numeroColonna + 1\n",
    "    numeroRiga = numeroRiga + 1\n",
    "print (defaultingPaths)\n"
   ]
  },
  {
   "cell_type": "code",
   "execution_count": null,
   "metadata": {
    "pycharm": {
     "is_executing": true
    }
   },
   "outputs": [],
   "source": [
    "# index level paths\n",
    "pdf[pdf.columns[:no_paths]].plot(colormap=colormap, lw=lw,\n",
    "                           figsize=figsize, legend=legend);"
   ]
  },
  {
   "cell_type": "code",
   "execution_count": null,
   "metadata": {
    "pycharm": {
     "is_executing": true
    }
   },
   "outputs": [],
   "source": [
    "vols = svjd.get_volatility_values()"
   ]
  },
  {
   "cell_type": "code",
   "execution_count": null,
   "metadata": {
    "pycharm": {
     "is_executing": true
    }
   },
   "outputs": [],
   "source": [
    "pdf = pd.DataFrame(vols, index=svjd.time_grid)"
   ]
  },
  {
   "cell_type": "code",
   "execution_count": null,
   "metadata": {
    "pycharm": {
     "is_executing": true
    }
   },
   "outputs": [],
   "source": [
    "# volatility paths\n",
    "pdf[pdf.columns[:no_paths]].plot(colormap=colormap, lw=lw,\n",
    "                           figsize=figsize, legend=legend);"
   ]
  },
  {
   "cell_type": "markdown",
   "metadata": {},
   "source": [
    "## sabr_stochastic_volatility"
   ]
  },
  {
   "cell_type": "markdown",
   "metadata": {},
   "source": [
    "The `sabr_stochastic_volatility` model is based on the **Hagan et al. (2002)** paper. It needs the following parameters:"
   ]
  },
  {
   "cell_type": "code",
   "execution_count": null,
   "metadata": {
    "pycharm": {
     "is_executing": true
    }
   },
   "outputs": [],
   "source": [
    "# short rate like parameters\n",
    "me.add_constant('initial_value', 0.5)\n",
    "  # starting value (eg inital short rate)\n",
    "me.add_constant('alpha', 0.04)\n",
    "  # initial variance\n",
    "me.add_constant('beta', 0.5)\n",
    "  # exponent\n",
    "me.add_constant('rho', 0.1)\n",
    "  # correlation factor\n",
    "me.add_constant('vol_vol', 0.5)\n",
    "  # volatility of volatility/variance"
   ]
  },
  {
   "cell_type": "code",
   "execution_count": null,
   "metadata": {
    "pycharm": {
     "is_executing": true
    }
   },
   "outputs": [],
   "source": [
    "sabr = sabr_stochastic_volatility('sabr', me)"
   ]
  },
  {
   "cell_type": "code",
   "execution_count": null,
   "metadata": {
    "collapsed": true,
    "pycharm": {
     "is_executing": true
    }
   },
   "outputs": [],
   "source": [
    "paths = sabr.get_instrument_values()"
   ]
  },
  {
   "cell_type": "code",
   "execution_count": null,
   "metadata": {
    "pycharm": {
     "is_executing": true
    }
   },
   "outputs": [],
   "source": [
    "pdf = pd.DataFrame(paths, index=sabr.time_grid)"
   ]
  },
  {
   "cell_type": "code",
   "execution_count": null,
   "metadata": {
    "pycharm": {
     "is_executing": true
    }
   },
   "outputs": [],
   "source": [
    "pdf[pdf.columns[:no_paths]].plot(colormap=colormap, lw=lw,\n",
    "                           figsize=figsize, legend=legend);"
   ]
  },
  {
   "cell_type": "code",
   "execution_count": null,
   "metadata": {
    "collapsed": true,
    "pycharm": {
     "is_executing": true
    }
   },
   "outputs": [],
   "source": [
    "vols = sabr.get_volatility_values()"
   ]
  },
  {
   "cell_type": "code",
   "execution_count": null,
   "metadata": {
    "collapsed": true,
    "pycharm": {
     "is_executing": true
    }
   },
   "outputs": [],
   "source": [
    "pdf = pd.DataFrame(vols, index=sabr.time_grid)"
   ]
  },
  {
   "cell_type": "code",
   "execution_count": null,
   "metadata": {
    "pycharm": {
     "is_executing": true
    }
   },
   "outputs": [],
   "source": [
    "pdf[pdf.columns[:no_paths]].plot(colormap=colormap, lw=lw,\n",
    "                           figsize=figsize, legend=legend);"
   ]
  },
  {
   "cell_type": "markdown",
   "metadata": {},
   "source": [
    "## mean_reverting_diffusion"
   ]
  },
  {
   "cell_type": "markdown",
   "metadata": {},
   "source": [
    "The `mean_reverting_diffusion` model class is based on the **Vasicek (1977)** short rate model. It is suited to model mean-reverting quantities, like short rates, volatilities, etc. The model needs the following set of parameters:"
   ]
  },
  {
   "cell_type": "code",
   "execution_count": null,
   "metadata": {
    "pycharm": {
     "is_executing": true
    }
   },
   "outputs": [],
   "source": [
    "# short rate like parameters\n",
    "me.add_constant('initial_value', 0.05)\n",
    "  # starting value (eg inital short rate)\n",
    "me.add_constant('volatility', 0.05)\n",
    "  # volatility factor\n",
    "me.add_constant('kappa', 2.5)\n",
    "  # mean reversion factor\n",
    "me.add_constant('theta', 0.01)\n",
    "  # long-term mean"
   ]
  },
  {
   "cell_type": "code",
   "execution_count": null,
   "metadata": {
    "pycharm": {
     "is_executing": true
    }
   },
   "outputs": [],
   "source": [
    "mrd = mean_reverting_diffusion('mrd', me)"
   ]
  },
  {
   "cell_type": "code",
   "execution_count": null,
   "metadata": {
    "pycharm": {
     "is_executing": true
    }
   },
   "outputs": [],
   "source": [
    "paths = mrd.get_instrument_values()"
   ]
  },
  {
   "cell_type": "code",
   "execution_count": null,
   "metadata": {
    "collapsed": true,
    "pycharm": {
     "is_executing": true
    }
   },
   "outputs": [],
   "source": [
    "pdf_1 = pd.DataFrame(paths, index=mrd.time_grid)"
   ]
  },
  {
   "cell_type": "markdown",
   "metadata": {},
   "source": [
    "Simulated paths can go negative which might be undesireable, e.g. when modeling volatility processes."
   ]
  },
  {
   "cell_type": "code",
   "execution_count": null,
   "metadata": {
    "scrolled": true,
    "pycharm": {
     "is_executing": true
    }
   },
   "outputs": [],
   "source": [
    "pdf_1[pdf_1.columns[:no_paths]].plot(colormap=colormap, lw=lw,\n",
    "                           figsize=figsize, legend=legend);"
   ]
  },
  {
   "cell_type": "markdown",
   "metadata": {},
   "source": [
    "Using a full trunctation discretization scheme ensures positive paths."
   ]
  },
  {
   "cell_type": "code",
   "execution_count": null,
   "metadata": {
    "pycharm": {
     "is_executing": true
    }
   },
   "outputs": [],
   "source": [
    "mrd = mean_reverting_diffusion('mrd', me, truncation=True)\n",
    "paths = mrd.get_instrument_values()\n",
    "pdf_1 = pd.DataFrame(paths, index=mrd.time_grid)"
   ]
  },
  {
   "cell_type": "code",
   "execution_count": null,
   "metadata": {
    "scrolled": true,
    "pycharm": {
     "is_executing": true
    }
   },
   "outputs": [],
   "source": [
    "pdf_1[pdf_1.columns[:no_paths]].plot(colormap=colormap, lw=lw,\n",
    "                           figsize=figsize, legend=legend);"
   ]
  },
  {
   "cell_type": "markdown",
   "metadata": {},
   "source": [
    "## square_root_diffusion"
   ]
  },
  {
   "cell_type": "markdown",
   "metadata": {},
   "source": [
    "The `square_root_diffusion` model class is based on the **square-root diffusion according to Cox-Ingersoll-Ross (1985)**. This class is often used to model stochastic short rates or a volatility process (eg like the VSTOXX volatility index). The model needs the same parameters as the `mean_reverting_diffusion`."
   ]
  },
  {
   "cell_type": "markdown",
   "metadata": {},
   "source": [
    "As before, the handling of the model class is the same, making it easy to simulate paths given the parameter specifications and visualize them."
   ]
  },
  {
   "cell_type": "code",
   "execution_count": null,
   "metadata": {
    "pycharm": {
     "is_executing": true
    }
   },
   "outputs": [],
   "source": [
    "srd = square_root_diffusion('srd', me)"
   ]
  },
  {
   "cell_type": "code",
   "execution_count": null,
   "metadata": {
    "pycharm": {
     "is_executing": true
    }
   },
   "outputs": [],
   "source": [
    "paths = srd.get_instrument_values()"
   ]
  },
  {
   "cell_type": "code",
   "execution_count": null,
   "metadata": {
    "pycharm": {
     "is_executing": true
    }
   },
   "outputs": [],
   "source": [
    "pdf_2 = pd.DataFrame(paths, index=srd.time_grid)"
   ]
  },
  {
   "cell_type": "code",
   "execution_count": null,
   "metadata": {
    "pycharm": {
     "is_executing": true
    }
   },
   "outputs": [],
   "source": [
    "pdf_2[pdf_2.columns[:no_paths]].plot(colormap=colormap, lw=lw,\n",
    "                           figsize=figsize, legend=legend);"
   ]
  },
  {
   "cell_type": "markdown",
   "metadata": {},
   "source": [
    "Let us compare the simulated paths --- based on the same parameters --- for the `mean_reverting_diffusion` and the `square_root_diffusion` in a single chart. The paths from the `mean_reverting_diffusion` object are much more volatile."
   ]
  },
  {
   "cell_type": "code",
   "execution_count": null,
   "metadata": {
    "pycharm": {
     "is_executing": true
    }
   },
   "outputs": [],
   "source": [
    "ax = pdf_1[pdf_1.columns[:no_paths]].plot(style='b-.', lw=lw,\n",
    "                           figsize=figsize, legend=legend);\n",
    "pdf_2[pdf_1.columns[:no_paths]].plot(style='r--', lw=lw,\n",
    "                           figsize=figsize, legend=legend, ax=ax);"
   ]
  },
  {
   "cell_type": "markdown",
   "metadata": {},
   "source": [
    "However, the *mean values* do not differ that much since both share the same long-term mean level. Mean reversion is faster with the `square_root_diffusion` model."
   ]
  },
  {
   "cell_type": "code",
   "execution_count": null,
   "metadata": {
    "pycharm": {
     "is_executing": true
    }
   },
   "outputs": [],
   "source": [
    "ax = pdf_1.mean(axis=1).plot(style='b-.', lw=lw,\n",
    "                    figsize=figsize, label='mrd', legend=True);\n",
    "pdf_2.mean(axis=1).plot(style='r--', lw=lw,\n",
    "                    figsize=figsize, label='srd', legend=True);"
   ]
  },
  {
   "cell_type": "markdown",
   "metadata": {},
   "source": [
    "## square_root_jump_diffusion"
   ]
  },
  {
   "cell_type": "markdown",
   "metadata": {},
   "source": [
    "*Experimental Status*"
   ]
  },
  {
   "cell_type": "markdown",
   "metadata": {},
   "source": [
    "Building on the square-root diffusion, there is a **square-root jump diffusion** adding a log-normally distributed jump component. The following parmeters might be for a volatility index, for example. In this case, the major risk might be a large positive jump in the index. The following model parameters are needed:"
   ]
  },
  {
   "cell_type": "code",
   "execution_count": null,
   "metadata": {
    "pycharm": {
     "is_executing": true
    }
   },
   "outputs": [],
   "source": [
    "# volatility index like parameters\n",
    "me.add_constant('initial_value', 25.)\n",
    "  # starting values\n",
    "me.add_constant('kappa', 2.)\n",
    "  # mean-reversion factor\n",
    "me.add_constant('theta', 20.)\n",
    "  # long-term mean\n",
    "me.add_constant('volatility', 1.)\n",
    "  # volatility of diffusion\n",
    "me.add_constant('lambda', 0.3)\n",
    "  # probability for jump p.a.\n",
    "me.add_constant('mu', 0.4)\n",
    "  # expected jump size\n",
    "me.add_constant('delta', 0.2)\n",
    "  # standard deviation of jump"
   ]
  },
  {
   "cell_type": "markdown",
   "metadata": {},
   "source": [
    "Once the `square_root_jump_diffusion` class is instantiated, the handling of the resulting object is the same as with the other model classes."
   ]
  },
  {
   "cell_type": "code",
   "execution_count": null,
   "metadata": {
    "pycharm": {
     "is_executing": true
    }
   },
   "outputs": [],
   "source": [
    "srjd = square_root_jump_diffusion('srjd', me)"
   ]
  },
  {
   "cell_type": "code",
   "execution_count": null,
   "metadata": {
    "pycharm": {
     "is_executing": true
    }
   },
   "outputs": [],
   "source": [
    "paths = srjd.get_instrument_values()"
   ]
  },
  {
   "cell_type": "code",
   "execution_count": null,
   "metadata": {
    "pycharm": {
     "is_executing": true
    }
   },
   "outputs": [],
   "source": [
    "pdf = pd.DataFrame(paths, index=srjd.time_grid)"
   ]
  },
  {
   "cell_type": "code",
   "execution_count": null,
   "metadata": {
    "pycharm": {
     "is_executing": true
    }
   },
   "outputs": [],
   "source": [
    "pdf[pdf.columns[:no_paths]].plot(colormap=colormap, lw=lw,\n",
    "                           figsize=figsize, legend=legend);"
   ]
  },
  {
   "cell_type": "code",
   "execution_count": null,
   "metadata": {
    "pycharm": {
     "is_executing": true
    }
   },
   "outputs": [],
   "source": [
    "paths[-1].mean()"
   ]
  },
  {
   "cell_type": "markdown",
   "metadata": {},
   "source": [
    "## square_root_jump_diffusion_plus"
   ]
  },
  {
   "cell_type": "markdown",
   "metadata": {},
   "source": [
    "*Experimental Status*"
   ]
  },
  {
   "cell_type": "markdown",
   "metadata": {},
   "source": [
    "This model class further enhances the `square_root_jump_diffusion` class by adding a **deterministic shift approach according to Brigo-Mercurio (2001)** to account for a market given term structure (e.g. in volatility, interest rates). Let us define a simple term structure as follows:"
   ]
  },
  {
   "cell_type": "code",
   "execution_count": null,
   "metadata": {
    "pycharm": {
     "is_executing": true
    }
   },
   "outputs": [],
   "source": [
    "term_structure = np.array([(dt.datetime(2015, 1, 1), 25.),\n",
    "                  (dt.datetime(2015, 3, 31), 24.),\n",
    "                  (dt.datetime(2015, 6, 30), 27.),\n",
    "                  (dt.datetime(2015, 9, 30), 28.),\n",
    "                  (dt.datetime(2015, 12, 31), 30.)])"
   ]
  },
  {
   "cell_type": "code",
   "execution_count": null,
   "metadata": {
    "pycharm": {
     "is_executing": true
    }
   },
   "outputs": [],
   "source": [
    "me.add_curve('term_structure', term_structure)"
   ]
  },
  {
   "cell_type": "code",
   "execution_count": null,
   "metadata": {
    "pycharm": {
     "is_executing": true
    }
   },
   "outputs": [],
   "source": [
    "srjdp = square_root_jump_diffusion_plus('srjdp', me)"
   ]
  },
  {
   "cell_type": "markdown",
   "metadata": {},
   "source": [
    "The method `generate_shift_base` calibrates the square-root diffusion to the given term structure (varying the parameters `kappa`, `theta` and `volatility`). "
   ]
  },
  {
   "cell_type": "code",
   "execution_count": null,
   "metadata": {
    "pycharm": {
     "is_executing": true
    }
   },
   "outputs": [],
   "source": [
    "srjdp.generate_shift_base((2.0, 20., 0.1))"
   ]
  },
  {
   "cell_type": "markdown",
   "metadata": {},
   "source": [
    "The results are `shift_base` values, i.e. the difference between the model and market implied foward rates."
   ]
  },
  {
   "cell_type": "code",
   "execution_count": null,
   "metadata": {
    "pycharm": {
     "is_executing": true
    }
   },
   "outputs": [],
   "source": [
    "srjdp.shift_base\n",
    "  # difference between market and model\n",
    "  # forward rates after calibration"
   ]
  },
  {
   "cell_type": "markdown",
   "metadata": {},
   "source": [
    "The method `update_shift_values` then calculates deterministic shift values for the relevant time grid by interpolation of the `shift_base` values."
   ]
  },
  {
   "cell_type": "code",
   "execution_count": null,
   "metadata": {
    "pycharm": {
     "is_executing": true
    }
   },
   "outputs": [],
   "source": [
    "srjdp.update_shift_values()"
   ]
  },
  {
   "cell_type": "code",
   "execution_count": null,
   "metadata": {
    "pycharm": {
     "is_executing": true
    }
   },
   "outputs": [],
   "source": [
    "srjdp.shift_values\n",
    "  # shift values to apply to simulation scheme\n",
    "  # given the shift base values"
   ]
  },
  {
   "cell_type": "markdown",
   "metadata": {},
   "source": [
    "When simulating the process, the model forward rates ..."
   ]
  },
  {
   "cell_type": "code",
   "execution_count": null,
   "metadata": {
    "pycharm": {
     "is_executing": true
    }
   },
   "outputs": [],
   "source": [
    "srjdp.update_forward_rates()\n",
    "srjdp.forward_rates\n",
    "  # model forward rates resulting from parameters"
   ]
  },
  {
   "cell_type": "markdown",
   "metadata": {},
   "source": [
    "... are then shifted by the `shift_values` to better match the term structure."
   ]
  },
  {
   "cell_type": "code",
   "execution_count": null,
   "metadata": {
    "pycharm": {
     "is_executing": true
    }
   },
   "outputs": [],
   "source": [
    "srjdp.forward_rates[:, 1] + srjdp.shift_values[:, 1]\n",
    "  # shifted foward rates"
   ]
  },
  {
   "cell_type": "markdown",
   "metadata": {},
   "source": [
    "The simulated paths then are including the deterministic shift."
   ]
  },
  {
   "cell_type": "code",
   "execution_count": null,
   "metadata": {
    "pycharm": {
     "is_executing": true
    }
   },
   "outputs": [],
   "source": [
    "paths = srjdp.get_instrument_values()"
   ]
  },
  {
   "cell_type": "code",
   "execution_count": null,
   "metadata": {
    "pycharm": {
     "is_executing": true
    }
   },
   "outputs": [],
   "source": [
    "pdf = pd.DataFrame(paths, index=srjdp.time_grid)"
   ]
  },
  {
   "cell_type": "code",
   "execution_count": null,
   "metadata": {
    "scrolled": true,
    "pycharm": {
     "is_executing": true
    }
   },
   "outputs": [],
   "source": [
    "pdf[pdf.columns[:no_paths]].plot(colormap=colormap, lw=lw,\n",
    "                           figsize=figsize, legend=legend);"
   ]
  },
  {
   "cell_type": "markdown",
   "metadata": {},
   "source": [
    "The effect might not be immediately visible in the paths plot, however, the mean of the simulated values in this case is higher by about 1 point compared to the `square_root_jump_diffusion` simulation without deterministic shift."
   ]
  },
  {
   "cell_type": "code",
   "execution_count": null,
   "metadata": {
    "pycharm": {
     "is_executing": true
    }
   },
   "outputs": [],
   "source": [
    "paths[-1].mean()"
   ]
  },
  {
   "cell_type": "markdown",
   "metadata": {},
   "source": [
    "**Copyright, License & Disclaimer**\n",
    "\n",
    "© Dr. Yves J. Hilpisch | The Python Quants GmbH\n",
    "\n",
    "DX Analytics (the \"dx library\" or \"dx package\") is licensed under the GNU Affero General\n",
    "Public License version 3 or later (see http://www.gnu.org/licenses/).\n",
    "\n",
    "DX Analytics comes with no representations or warranties, to the extent\n",
    "permitted by applicable law.\n",
    "\n",
    "http://tpq.io | [dx@tpq.io](mailto:team@tpq.io) |\n",
    "http://twitter.com/dyjh\n",
    "\n",
    "<img src=\"http://hilpisch.com/tpq_logo.png\" alt=\"The Python Quants\" width=\"35%\" align=\"right\" border=\"0\"><br>\n",
    "\n",
    "**Quant Platform** | http://pqp.io\n",
    "\n",
    "**Python for Finance Training** | http://training.tpq.io\n",
    "\n",
    "**Certificate in Computational Finance** | http://compfinance.tpq.io\n",
    "\n",
    "**Derivatives Analytics with Python (Wiley Finance)** |\n",
    "http://dawp.tpq.io\n",
    "\n",
    "**Python for Finance (2nd ed., O'Reilly)** |\n",
    "http://py4fi.tpq.io"
   ]
  }
 ],
 "metadata": {
  "kernelspec": {
   "display_name": "Python 3",
   "language": "python",
   "name": "python3"
  },
  "language_info": {
   "codemirror_mode": {
    "name": "ipython",
    "version": 3
   },
   "file_extension": ".py",
   "mimetype": "text/x-python",
   "name": "python",
   "nbconvert_exporter": "python",
   "pygments_lexer": "ipython3",
   "version": "3.6.8"
  }
 },
 "nbformat": 4,
 "nbformat_minor": 1
}